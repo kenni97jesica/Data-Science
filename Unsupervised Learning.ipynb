{
 "cells": [
  {
   "cell_type": "markdown",
   "id": "2e7fc42e",
   "metadata": {},
   "source": [
    "### 1.) Import the required Libraries"
   ]
  },
  {
   "cell_type": "code",
   "execution_count": 1,
   "id": "43639e58",
   "metadata": {},
   "outputs": [],
   "source": [
    "import pandas as pd\n",
    "import numpy as np\n",
    "import seaborn as sns\n",
    "import matplotlib.pyplot as plt\n",
    "\n",
    "from warnings import filterwarnings\n",
    "filterwarnings(\"ignore\")\n",
    "\n",
    "from sklearn.preprocessing import StandardScaler\n",
    "\n",
    "plt.rcParams[\"figure.figsize\"] = [20,8]\n",
    "\n",
    "from sklearn.preprocessing import LabelEncoder"
   ]
  },
  {
   "cell_type": "markdown",
   "id": "0d92e437",
   "metadata": {},
   "source": [
    "### 2.) Read the data"
   ]
  },
  {
   "cell_type": "code",
   "execution_count": 2,
   "id": "fe0d8e0b",
   "metadata": {},
   "outputs": [
    {
     "data": {
      "text/html": [
       "<div>\n",
       "<style scoped>\n",
       "    .dataframe tbody tr th:only-of-type {\n",
       "        vertical-align: middle;\n",
       "    }\n",
       "\n",
       "    .dataframe tbody tr th {\n",
       "        vertical-align: top;\n",
       "    }\n",
       "\n",
       "    .dataframe thead th {\n",
       "        text-align: right;\n",
       "    }\n",
       "</style>\n",
       "<table border=\"1\" class=\"dataframe\">\n",
       "  <thead>\n",
       "    <tr style=\"text-align: right;\">\n",
       "      <th></th>\n",
       "      <th>Administrative</th>\n",
       "      <th>Administrative_Duration</th>\n",
       "      <th>Informational</th>\n",
       "      <th>Informational_Duration</th>\n",
       "      <th>ProductRelated</th>\n",
       "      <th>ProductRelated_Duration</th>\n",
       "      <th>BounceRates</th>\n",
       "      <th>ExitRates</th>\n",
       "      <th>PageValues</th>\n",
       "      <th>SpecialDay</th>\n",
       "      <th>Month</th>\n",
       "      <th>OperatingSystems</th>\n",
       "      <th>Browser</th>\n",
       "      <th>Region</th>\n",
       "      <th>TrafficType</th>\n",
       "      <th>VisitorType</th>\n",
       "      <th>Weekend</th>\n",
       "      <th>Revenue</th>\n",
       "    </tr>\n",
       "  </thead>\n",
       "  <tbody>\n",
       "    <tr>\n",
       "      <th>0</th>\n",
       "      <td>0</td>\n",
       "      <td>0.0</td>\n",
       "      <td>0</td>\n",
       "      <td>0.0</td>\n",
       "      <td>1</td>\n",
       "      <td>0.000000</td>\n",
       "      <td>0.20</td>\n",
       "      <td>0.20</td>\n",
       "      <td>0.0</td>\n",
       "      <td>0.0</td>\n",
       "      <td>Feb</td>\n",
       "      <td>1</td>\n",
       "      <td>1</td>\n",
       "      <td>1</td>\n",
       "      <td>1</td>\n",
       "      <td>Returning_Visitor</td>\n",
       "      <td>False</td>\n",
       "      <td>False</td>\n",
       "    </tr>\n",
       "    <tr>\n",
       "      <th>1</th>\n",
       "      <td>0</td>\n",
       "      <td>0.0</td>\n",
       "      <td>0</td>\n",
       "      <td>0.0</td>\n",
       "      <td>2</td>\n",
       "      <td>64.000000</td>\n",
       "      <td>0.00</td>\n",
       "      <td>0.10</td>\n",
       "      <td>0.0</td>\n",
       "      <td>0.0</td>\n",
       "      <td>Feb</td>\n",
       "      <td>2</td>\n",
       "      <td>2</td>\n",
       "      <td>1</td>\n",
       "      <td>2</td>\n",
       "      <td>Returning_Visitor</td>\n",
       "      <td>False</td>\n",
       "      <td>False</td>\n",
       "    </tr>\n",
       "    <tr>\n",
       "      <th>2</th>\n",
       "      <td>0</td>\n",
       "      <td>0.0</td>\n",
       "      <td>0</td>\n",
       "      <td>0.0</td>\n",
       "      <td>1</td>\n",
       "      <td>0.000000</td>\n",
       "      <td>0.20</td>\n",
       "      <td>0.20</td>\n",
       "      <td>0.0</td>\n",
       "      <td>0.0</td>\n",
       "      <td>Feb</td>\n",
       "      <td>4</td>\n",
       "      <td>1</td>\n",
       "      <td>9</td>\n",
       "      <td>3</td>\n",
       "      <td>Returning_Visitor</td>\n",
       "      <td>False</td>\n",
       "      <td>False</td>\n",
       "    </tr>\n",
       "    <tr>\n",
       "      <th>3</th>\n",
       "      <td>0</td>\n",
       "      <td>0.0</td>\n",
       "      <td>0</td>\n",
       "      <td>0.0</td>\n",
       "      <td>2</td>\n",
       "      <td>2.666667</td>\n",
       "      <td>0.05</td>\n",
       "      <td>0.14</td>\n",
       "      <td>0.0</td>\n",
       "      <td>0.0</td>\n",
       "      <td>Feb</td>\n",
       "      <td>3</td>\n",
       "      <td>2</td>\n",
       "      <td>2</td>\n",
       "      <td>4</td>\n",
       "      <td>Returning_Visitor</td>\n",
       "      <td>False</td>\n",
       "      <td>False</td>\n",
       "    </tr>\n",
       "    <tr>\n",
       "      <th>4</th>\n",
       "      <td>0</td>\n",
       "      <td>0.0</td>\n",
       "      <td>0</td>\n",
       "      <td>0.0</td>\n",
       "      <td>10</td>\n",
       "      <td>627.500000</td>\n",
       "      <td>0.02</td>\n",
       "      <td>0.05</td>\n",
       "      <td>0.0</td>\n",
       "      <td>0.0</td>\n",
       "      <td>Feb</td>\n",
       "      <td>3</td>\n",
       "      <td>3</td>\n",
       "      <td>1</td>\n",
       "      <td>4</td>\n",
       "      <td>Returning_Visitor</td>\n",
       "      <td>True</td>\n",
       "      <td>False</td>\n",
       "    </tr>\n",
       "  </tbody>\n",
       "</table>\n",
       "</div>"
      ],
      "text/plain": [
       "   Administrative  Administrative_Duration  Informational  \\\n",
       "0               0                      0.0              0   \n",
       "1               0                      0.0              0   \n",
       "2               0                      0.0              0   \n",
       "3               0                      0.0              0   \n",
       "4               0                      0.0              0   \n",
       "\n",
       "   Informational_Duration  ProductRelated  ProductRelated_Duration  \\\n",
       "0                     0.0               1                 0.000000   \n",
       "1                     0.0               2                64.000000   \n",
       "2                     0.0               1                 0.000000   \n",
       "3                     0.0               2                 2.666667   \n",
       "4                     0.0              10               627.500000   \n",
       "\n",
       "   BounceRates  ExitRates  PageValues  SpecialDay Month  OperatingSystems  \\\n",
       "0         0.20       0.20         0.0         0.0   Feb                 1   \n",
       "1         0.00       0.10         0.0         0.0   Feb                 2   \n",
       "2         0.20       0.20         0.0         0.0   Feb                 4   \n",
       "3         0.05       0.14         0.0         0.0   Feb                 3   \n",
       "4         0.02       0.05         0.0         0.0   Feb                 3   \n",
       "\n",
       "   Browser  Region  TrafficType        VisitorType  Weekend  Revenue  \n",
       "0        1       1            1  Returning_Visitor    False    False  \n",
       "1        2       1            2  Returning_Visitor    False    False  \n",
       "2        1       9            3  Returning_Visitor    False    False  \n",
       "3        2       2            4  Returning_Visitor    False    False  \n",
       "4        3       1            4  Returning_Visitor     True    False  "
      ]
     },
     "execution_count": 2,
     "metadata": {},
     "output_type": "execute_result"
    }
   ],
   "source": [
    "df = pd.read_csv(\"online_shoppers_intention.csv\")\n",
    "df.head()"
   ]
  },
  {
   "cell_type": "code",
   "execution_count": 3,
   "id": "f1417794",
   "metadata": {},
   "outputs": [
    {
     "data": {
      "text/plain": [
       "Index(['Administrative', 'Administrative_Duration', 'Informational',\n",
       "       'Informational_Duration', 'ProductRelated', 'ProductRelated_Duration',\n",
       "       'BounceRates', 'ExitRates', 'PageValues', 'SpecialDay', 'Month',\n",
       "       'OperatingSystems', 'Browser', 'Region', 'TrafficType', 'VisitorType',\n",
       "       'Weekend', 'Revenue'],\n",
       "      dtype='object')"
      ]
     },
     "execution_count": 3,
     "metadata": {},
     "output_type": "execute_result"
    }
   ],
   "source": [
    "df.columns"
   ]
  },
  {
   "cell_type": "code",
   "execution_count": 4,
   "id": "f85c4b57",
   "metadata": {},
   "outputs": [
    {
     "data": {
      "text/plain": [
       "(12330, 18)"
      ]
     },
     "execution_count": 4,
     "metadata": {},
     "output_type": "execute_result"
    }
   ],
   "source": [
    "df.shape"
   ]
  },
  {
   "cell_type": "markdown",
   "id": "fa44ccc0",
   "metadata": {},
   "source": [
    "### 3.) EDA"
   ]
  },
  {
   "cell_type": "markdown",
   "id": "18bc1416",
   "metadata": {},
   "source": [
    "#### a.) Check for Missing values"
   ]
  },
  {
   "cell_type": "code",
   "execution_count": 5,
   "id": "ec58890c",
   "metadata": {},
   "outputs": [
    {
     "data": {
      "text/plain": [
       "Administrative             0\n",
       "Administrative_Duration    0\n",
       "Informational              0\n",
       "Informational_Duration     0\n",
       "ProductRelated             0\n",
       "ProductRelated_Duration    0\n",
       "BounceRates                0\n",
       "ExitRates                  0\n",
       "PageValues                 0\n",
       "SpecialDay                 0\n",
       "Month                      0\n",
       "OperatingSystems           0\n",
       "Browser                    0\n",
       "Region                     0\n",
       "TrafficType                0\n",
       "VisitorType                0\n",
       "Weekend                    0\n",
       "Revenue                    0\n",
       "dtype: int64"
      ]
     },
     "execution_count": 5,
     "metadata": {},
     "output_type": "execute_result"
    }
   ],
   "source": [
    "df.isna().sum()"
   ]
  },
  {
   "cell_type": "markdown",
   "id": "63ef5865",
   "metadata": {},
   "source": [
    "#### b.) Check for data types"
   ]
  },
  {
   "cell_type": "code",
   "execution_count": 6,
   "id": "1b37f596",
   "metadata": {},
   "outputs": [
    {
     "data": {
      "text/plain": [
       "Administrative               int64\n",
       "Administrative_Duration    float64\n",
       "Informational                int64\n",
       "Informational_Duration     float64\n",
       "ProductRelated               int64\n",
       "ProductRelated_Duration    float64\n",
       "BounceRates                float64\n",
       "ExitRates                  float64\n",
       "PageValues                 float64\n",
       "SpecialDay                 float64\n",
       "Month                       object\n",
       "OperatingSystems             int64\n",
       "Browser                      int64\n",
       "Region                       int64\n",
       "TrafficType                  int64\n",
       "VisitorType                 object\n",
       "Weekend                       bool\n",
       "Revenue                       bool\n",
       "dtype: object"
      ]
     },
     "execution_count": 6,
     "metadata": {},
     "output_type": "execute_result"
    }
   ],
   "source": [
    "df.dtypes"
   ]
  },
  {
   "cell_type": "markdown",
   "id": "e304ad26",
   "metadata": {},
   "source": [
    "### 4.) Encoding"
   ]
  },
  {
   "cell_type": "code",
   "execution_count": 7,
   "id": "8d3be652",
   "metadata": {},
   "outputs": [],
   "source": [
    "le = LabelEncoder()\n",
    "\n",
    "df[\"Month\"] = le.fit_transform(df[\"Month\"])\n",
    "\n",
    "df[\"VisitorType\"] =  le.fit_transform(df[\"VisitorType\"])\n",
    "\n",
    "df[\"Weekend\"] =  le.fit_transform(df[\"Weekend\"])\n",
    "\n",
    "df[\"Revenue\"] =  le.fit_transform(df[\"Revenue\"])"
   ]
  },
  {
   "cell_type": "code",
   "execution_count": 8,
   "id": "fcd736bb",
   "metadata": {},
   "outputs": [
    {
     "data": {
      "text/html": [
       "<div>\n",
       "<style scoped>\n",
       "    .dataframe tbody tr th:only-of-type {\n",
       "        vertical-align: middle;\n",
       "    }\n",
       "\n",
       "    .dataframe tbody tr th {\n",
       "        vertical-align: top;\n",
       "    }\n",
       "\n",
       "    .dataframe thead th {\n",
       "        text-align: right;\n",
       "    }\n",
       "</style>\n",
       "<table border=\"1\" class=\"dataframe\">\n",
       "  <thead>\n",
       "    <tr style=\"text-align: right;\">\n",
       "      <th></th>\n",
       "      <th>Administrative</th>\n",
       "      <th>Administrative_Duration</th>\n",
       "      <th>Informational</th>\n",
       "      <th>Informational_Duration</th>\n",
       "      <th>ProductRelated</th>\n",
       "      <th>ProductRelated_Duration</th>\n",
       "      <th>BounceRates</th>\n",
       "      <th>ExitRates</th>\n",
       "      <th>PageValues</th>\n",
       "      <th>SpecialDay</th>\n",
       "      <th>Month</th>\n",
       "      <th>OperatingSystems</th>\n",
       "      <th>Browser</th>\n",
       "      <th>Region</th>\n",
       "      <th>TrafficType</th>\n",
       "      <th>VisitorType</th>\n",
       "      <th>Weekend</th>\n",
       "      <th>Revenue</th>\n",
       "    </tr>\n",
       "  </thead>\n",
       "  <tbody>\n",
       "    <tr>\n",
       "      <th>0</th>\n",
       "      <td>0</td>\n",
       "      <td>0.0</td>\n",
       "      <td>0</td>\n",
       "      <td>0.0</td>\n",
       "      <td>1</td>\n",
       "      <td>0.000000</td>\n",
       "      <td>0.20</td>\n",
       "      <td>0.20</td>\n",
       "      <td>0.0</td>\n",
       "      <td>0.0</td>\n",
       "      <td>2</td>\n",
       "      <td>1</td>\n",
       "      <td>1</td>\n",
       "      <td>1</td>\n",
       "      <td>1</td>\n",
       "      <td>2</td>\n",
       "      <td>0</td>\n",
       "      <td>0</td>\n",
       "    </tr>\n",
       "    <tr>\n",
       "      <th>1</th>\n",
       "      <td>0</td>\n",
       "      <td>0.0</td>\n",
       "      <td>0</td>\n",
       "      <td>0.0</td>\n",
       "      <td>2</td>\n",
       "      <td>64.000000</td>\n",
       "      <td>0.00</td>\n",
       "      <td>0.10</td>\n",
       "      <td>0.0</td>\n",
       "      <td>0.0</td>\n",
       "      <td>2</td>\n",
       "      <td>2</td>\n",
       "      <td>2</td>\n",
       "      <td>1</td>\n",
       "      <td>2</td>\n",
       "      <td>2</td>\n",
       "      <td>0</td>\n",
       "      <td>0</td>\n",
       "    </tr>\n",
       "    <tr>\n",
       "      <th>2</th>\n",
       "      <td>0</td>\n",
       "      <td>0.0</td>\n",
       "      <td>0</td>\n",
       "      <td>0.0</td>\n",
       "      <td>1</td>\n",
       "      <td>0.000000</td>\n",
       "      <td>0.20</td>\n",
       "      <td>0.20</td>\n",
       "      <td>0.0</td>\n",
       "      <td>0.0</td>\n",
       "      <td>2</td>\n",
       "      <td>4</td>\n",
       "      <td>1</td>\n",
       "      <td>9</td>\n",
       "      <td>3</td>\n",
       "      <td>2</td>\n",
       "      <td>0</td>\n",
       "      <td>0</td>\n",
       "    </tr>\n",
       "    <tr>\n",
       "      <th>3</th>\n",
       "      <td>0</td>\n",
       "      <td>0.0</td>\n",
       "      <td>0</td>\n",
       "      <td>0.0</td>\n",
       "      <td>2</td>\n",
       "      <td>2.666667</td>\n",
       "      <td>0.05</td>\n",
       "      <td>0.14</td>\n",
       "      <td>0.0</td>\n",
       "      <td>0.0</td>\n",
       "      <td>2</td>\n",
       "      <td>3</td>\n",
       "      <td>2</td>\n",
       "      <td>2</td>\n",
       "      <td>4</td>\n",
       "      <td>2</td>\n",
       "      <td>0</td>\n",
       "      <td>0</td>\n",
       "    </tr>\n",
       "    <tr>\n",
       "      <th>4</th>\n",
       "      <td>0</td>\n",
       "      <td>0.0</td>\n",
       "      <td>0</td>\n",
       "      <td>0.0</td>\n",
       "      <td>10</td>\n",
       "      <td>627.500000</td>\n",
       "      <td>0.02</td>\n",
       "      <td>0.05</td>\n",
       "      <td>0.0</td>\n",
       "      <td>0.0</td>\n",
       "      <td>2</td>\n",
       "      <td>3</td>\n",
       "      <td>3</td>\n",
       "      <td>1</td>\n",
       "      <td>4</td>\n",
       "      <td>2</td>\n",
       "      <td>1</td>\n",
       "      <td>0</td>\n",
       "    </tr>\n",
       "  </tbody>\n",
       "</table>\n",
       "</div>"
      ],
      "text/plain": [
       "   Administrative  Administrative_Duration  Informational  \\\n",
       "0               0                      0.0              0   \n",
       "1               0                      0.0              0   \n",
       "2               0                      0.0              0   \n",
       "3               0                      0.0              0   \n",
       "4               0                      0.0              0   \n",
       "\n",
       "   Informational_Duration  ProductRelated  ProductRelated_Duration  \\\n",
       "0                     0.0               1                 0.000000   \n",
       "1                     0.0               2                64.000000   \n",
       "2                     0.0               1                 0.000000   \n",
       "3                     0.0               2                 2.666667   \n",
       "4                     0.0              10               627.500000   \n",
       "\n",
       "   BounceRates  ExitRates  PageValues  SpecialDay  Month  OperatingSystems  \\\n",
       "0         0.20       0.20         0.0         0.0      2                 1   \n",
       "1         0.00       0.10         0.0         0.0      2                 2   \n",
       "2         0.20       0.20         0.0         0.0      2                 4   \n",
       "3         0.05       0.14         0.0         0.0      2                 3   \n",
       "4         0.02       0.05         0.0         0.0      2                 3   \n",
       "\n",
       "   Browser  Region  TrafficType  VisitorType  Weekend  Revenue  \n",
       "0        1       1            1            2        0        0  \n",
       "1        2       1            2            2        0        0  \n",
       "2        1       9            3            2        0        0  \n",
       "3        2       2            4            2        0        0  \n",
       "4        3       1            4            2        1        0  "
      ]
     },
     "execution_count": 8,
     "metadata": {},
     "output_type": "execute_result"
    }
   ],
   "source": [
    "df.head()"
   ]
  },
  {
   "cell_type": "markdown",
   "id": "66d47ebb",
   "metadata": {},
   "source": [
    "### 5.) Outliers"
   ]
  },
  {
   "cell_type": "code",
   "execution_count": 9,
   "id": "db884d0d",
   "metadata": {},
   "outputs": [
    {
     "data": {
      "image/png": "[encoded data removed]",
      "text/plain": [
       "<Figure size 1440x576 with 1 Axes>"
      ]
     },
     "metadata": {
      "needs_background": "light"
     },
     "output_type": "display_data"
    }
   ],
   "source": [
    "df.boxplot();"
   ]
  },
  {
   "cell_type": "markdown",
   "id": "83c9c26d",
   "metadata": {},
   "source": [
    "`ProductRelated_Duration` variable is having more outliers"
   ]
  },
  {
   "cell_type": "markdown",
   "id": "8bffc5e2",
   "metadata": {},
   "source": [
    "### 6.) Scaling"
   ]
  },
  {
   "cell_type": "code",
   "execution_count": 10,
   "id": "cfb7f552",
   "metadata": {},
   "outputs": [
    {
     "data": {
      "text/html": [
       "<div>\n",
       "<style scoped>\n",
       "    .dataframe tbody tr th:only-of-type {\n",
       "        vertical-align: middle;\n",
       "    }\n",
       "\n",
       "    .dataframe tbody tr th {\n",
       "        vertical-align: top;\n",
       "    }\n",
       "\n",
       "    .dataframe thead th {\n",
       "        text-align: right;\n",
       "    }\n",
       "</style>\n",
       "<table border=\"1\" class=\"dataframe\">\n",
       "  <thead>\n",
       "    <tr style=\"text-align: right;\">\n",
       "      <th></th>\n",
       "      <th>Administrative</th>\n",
       "      <th>Administrative_Duration</th>\n",
       "      <th>Informational</th>\n",
       "      <th>Informational_Duration</th>\n",
       "      <th>ProductRelated</th>\n",
       "      <th>ProductRelated_Duration</th>\n",
       "      <th>BounceRates</th>\n",
       "      <th>ExitRates</th>\n",
       "      <th>PageValues</th>\n",
       "      <th>SpecialDay</th>\n",
       "      <th>Month</th>\n",
       "      <th>OperatingSystems</th>\n",
       "      <th>Browser</th>\n",
       "      <th>Region</th>\n",
       "      <th>TrafficType</th>\n",
       "      <th>VisitorType</th>\n",
       "      <th>Weekend</th>\n",
       "      <th>Revenue</th>\n",
       "    </tr>\n",
       "  </thead>\n",
       "  <tbody>\n",
       "    <tr>\n",
       "      <th>0</th>\n",
       "      <td>-0.696993</td>\n",
       "      <td>-0.457191</td>\n",
       "      <td>-0.396478</td>\n",
       "      <td>-0.244931</td>\n",
       "      <td>-0.691003</td>\n",
       "      <td>-0.624348</td>\n",
       "      <td>3.667189</td>\n",
       "      <td>3.229316</td>\n",
       "      <td>-0.317178</td>\n",
       "      <td>-0.308821</td>\n",
       "      <td>-1.334959</td>\n",
       "      <td>-1.233426</td>\n",
       "      <td>-0.790293</td>\n",
       "      <td>-0.894178</td>\n",
       "      <td>-0.762629</td>\n",
       "      <td>0.407786</td>\n",
       "      <td>-0.550552</td>\n",
       "      <td>-0.427872</td>\n",
       "    </tr>\n",
       "    <tr>\n",
       "      <th>1</th>\n",
       "      <td>-0.696993</td>\n",
       "      <td>-0.457191</td>\n",
       "      <td>-0.396478</td>\n",
       "      <td>-0.244931</td>\n",
       "      <td>-0.668518</td>\n",
       "      <td>-0.590903</td>\n",
       "      <td>-0.457683</td>\n",
       "      <td>1.171473</td>\n",
       "      <td>-0.317178</td>\n",
       "      <td>-0.308821</td>\n",
       "      <td>-1.334959</td>\n",
       "      <td>-0.136078</td>\n",
       "      <td>-0.207952</td>\n",
       "      <td>-0.894178</td>\n",
       "      <td>-0.514182</td>\n",
       "      <td>0.407786</td>\n",
       "      <td>-0.550552</td>\n",
       "      <td>-0.427872</td>\n",
       "    </tr>\n",
       "    <tr>\n",
       "      <th>2</th>\n",
       "      <td>-0.696993</td>\n",
       "      <td>-0.457191</td>\n",
       "      <td>-0.396478</td>\n",
       "      <td>-0.244931</td>\n",
       "      <td>-0.691003</td>\n",
       "      <td>-0.624348</td>\n",
       "      <td>3.667189</td>\n",
       "      <td>3.229316</td>\n",
       "      <td>-0.317178</td>\n",
       "      <td>-0.308821</td>\n",
       "      <td>-1.334959</td>\n",
       "      <td>2.058618</td>\n",
       "      <td>-0.790293</td>\n",
       "      <td>2.437081</td>\n",
       "      <td>-0.265735</td>\n",
       "      <td>0.407786</td>\n",
       "      <td>-0.550552</td>\n",
       "      <td>-0.427872</td>\n",
       "    </tr>\n",
       "    <tr>\n",
       "      <th>3</th>\n",
       "      <td>-0.696993</td>\n",
       "      <td>-0.457191</td>\n",
       "      <td>-0.396478</td>\n",
       "      <td>-0.244931</td>\n",
       "      <td>-0.668518</td>\n",
       "      <td>-0.622954</td>\n",
       "      <td>0.573535</td>\n",
       "      <td>1.994610</td>\n",
       "      <td>-0.317178</td>\n",
       "      <td>-0.308821</td>\n",
       "      <td>-1.334959</td>\n",
       "      <td>0.961270</td>\n",
       "      <td>-0.207952</td>\n",
       "      <td>-0.477771</td>\n",
       "      <td>-0.017289</td>\n",
       "      <td>0.407786</td>\n",
       "      <td>-0.550552</td>\n",
       "      <td>-0.427872</td>\n",
       "    </tr>\n",
       "    <tr>\n",
       "      <th>4</th>\n",
       "      <td>-0.696993</td>\n",
       "      <td>-0.457191</td>\n",
       "      <td>-0.396478</td>\n",
       "      <td>-0.244931</td>\n",
       "      <td>-0.488636</td>\n",
       "      <td>-0.296430</td>\n",
       "      <td>-0.045196</td>\n",
       "      <td>0.142551</td>\n",
       "      <td>-0.317178</td>\n",
       "      <td>-0.308821</td>\n",
       "      <td>-1.334959</td>\n",
       "      <td>0.961270</td>\n",
       "      <td>0.374389</td>\n",
       "      <td>-0.894178</td>\n",
       "      <td>-0.017289</td>\n",
       "      <td>0.407786</td>\n",
       "      <td>1.816360</td>\n",
       "      <td>-0.427872</td>\n",
       "    </tr>\n",
       "  </tbody>\n",
       "</table>\n",
       "</div>"
      ],
      "text/plain": [
       "   Administrative  Administrative_Duration  Informational  \\\n",
       "0       -0.696993                -0.457191      -0.396478   \n",
       "1       -0.696993                -0.457191      -0.396478   \n",
       "2       -0.696993                -0.457191      -0.396478   \n",
       "3       -0.696993                -0.457191      -0.396478   \n",
       "4       -0.696993                -0.457191      -0.396478   \n",
       "\n",
       "   Informational_Duration  ProductRelated  ProductRelated_Duration  \\\n",
       "0               -0.244931       -0.691003                -0.624348   \n",
       "1               -0.244931       -0.668518                -0.590903   \n",
       "2               -0.244931       -0.691003                -0.624348   \n",
       "3               -0.244931       -0.668518                -0.622954   \n",
       "4               -0.244931       -0.488636                -0.296430   \n",
       "\n",
       "   BounceRates  ExitRates  PageValues  SpecialDay     Month  OperatingSystems  \\\n",
       "0     3.667189   3.229316   -0.317178   -0.308821 -1.334959         -1.233426   \n",
       "1    -0.457683   1.171473   -0.317178   -0.308821 -1.334959         -0.136078   \n",
       "2     3.667189   3.229316   -0.317178   -0.308821 -1.334959          2.058618   \n",
       "3     0.573535   1.994610   -0.317178   -0.308821 -1.334959          0.961270   \n",
       "4    -0.045196   0.142551   -0.317178   -0.308821 -1.334959          0.961270   \n",
       "\n",
       "    Browser    Region  TrafficType  VisitorType   Weekend   Revenue  \n",
       "0 -0.790293 -0.894178    -0.762629     0.407786 -0.550552 -0.427872  \n",
       "1 -0.207952 -0.894178    -0.514182     0.407786 -0.550552 -0.427872  \n",
       "2 -0.790293  2.437081    -0.265735     0.407786 -0.550552 -0.427872  \n",
       "3 -0.207952 -0.477771    -0.017289     0.407786 -0.550552 -0.427872  \n",
       "4  0.374389 -0.894178    -0.017289     0.407786  1.816360 -0.427872  "
      ]
     },
     "execution_count": 10,
     "metadata": {},
     "output_type": "execute_result"
    }
   ],
   "source": [
    "sc = StandardScaler()\n",
    "\n",
    "df_sc = sc.fit_transform(df)\n",
    "\n",
    "df_sc = pd.DataFrame(df_sc, columns=df.columns)\n",
    "\n",
    "df_sc.head()"
   ]
  },
  {
   "cell_type": "markdown",
   "id": "3df6ae61",
   "metadata": {},
   "source": [
    "### 7.) Algorithms"
   ]
  },
  {
   "cell_type": "markdown",
   "id": "55198978",
   "metadata": {},
   "source": [
    "## i.) K means "
   ]
  },
  {
   "cell_type": "code",
   "execution_count": 11,
   "id": "a6964f6c",
   "metadata": {},
   "outputs": [],
   "source": [
    "from sklearn.cluster import KMeans"
   ]
  },
  {
   "cell_type": "markdown",
   "id": "6e4a01f8",
   "metadata": {},
   "source": [
    "#### A.) Elbow plot"
   ]
  },
  {
   "cell_type": "code",
   "execution_count": 12,
   "id": "7d0a3cc9",
   "metadata": {},
   "outputs": [],
   "source": [
    "error = []\n",
    "\n",
    "for i in range(1,10):\n",
    "    km = KMeans(n_clusters=i, random_state=100)\n",
    "    km.fit(df_sc)\n",
    "    error.append(km.inertia_)"
   ]
  },
  {
   "cell_type": "code",
   "execution_count": 13,
   "id": "719924f3",
   "metadata": {},
   "outputs": [
    {
     "data": {
      "text/plain": [
       "[221940.0,\n",
       " 197751.8990487914,\n",
       " 177885.37441212634,\n",
       " 164193.1519124912,\n",
       " 154869.85679325735,\n",
       " 147732.20561318807,\n",
       " 139186.02898976154,\n",
       " 133410.43792884238,\n",
       " 128965.19211728014]"
      ]
     },
     "execution_count": 13,
     "metadata": {},
     "output_type": "execute_result"
    }
   ],
   "source": [
    "error"
   ]
  },
  {
   "cell_type": "code",
   "execution_count": 14,
   "id": "744017bb",
   "metadata": {},
   "outputs": [
    {
     "data": {
      "image/png": "[encoded data removed]",
      "text/plain": [
       "<Figure size 1440x576 with 1 Axes>"
      ]
     },
     "metadata": {
      "needs_background": "light"
     },
     "output_type": "display_data"
    }
   ],
   "source": [
    "plt.plot(range(1,10), error, marker=\"o\")\n",
    "\n",
    "plt.xlabel(\"No of clusters\")\n",
    "plt.ylabel(\"Error\")\n",
    "plt.title(\"Elbow Plot\")\n",
    "plt.show()"
   ]
  },
  {
   "cell_type": "code",
   "execution_count": 15,
   "id": "dda17e2c",
   "metadata": {},
   "outputs": [],
   "source": [
    "# From the graph, k = 3. So, Build a model using 8"
   ]
  },
  {
   "cell_type": "code",
   "execution_count": 16,
   "id": "4a2a9e14",
   "metadata": {},
   "outputs": [
    {
     "data": {
      "text/plain": [
       "KMeans(n_clusters=3, random_state=100)"
      ]
     },
     "execution_count": 16,
     "metadata": {},
     "output_type": "execute_result"
    }
   ],
   "source": [
    "model_3 = KMeans(n_clusters=3, random_state=100)\n",
    "\n",
    "model_3.fit(df_sc)"
   ]
  },
  {
   "cell_type": "code",
   "execution_count": 17,
   "id": "2978b950",
   "metadata": {},
   "outputs": [],
   "source": [
    "df_sc[\"labels\"] = model_3.labels_"
   ]
  },
  {
   "cell_type": "code",
   "execution_count": 18,
   "id": "e94db17e",
   "metadata": {},
   "outputs": [
    {
     "data": {
      "text/plain": [
       "2    9611\n",
       "0    1655\n",
       "1    1064\n",
       "Name: labels, dtype: int64"
      ]
     },
     "execution_count": 18,
     "metadata": {},
     "output_type": "execute_result"
    }
   ],
   "source": [
    "df_sc[\"labels\"].value_counts() "
   ]
  },
  {
   "cell_type": "code",
   "execution_count": 19,
   "id": "fd91664b",
   "metadata": {},
   "outputs": [
    {
     "data": {
      "text/html": [
       "<div>\n",
       "<style scoped>\n",
       "    .dataframe tbody tr th:only-of-type {\n",
       "        vertical-align: middle;\n",
       "    }\n",
       "\n",
       "    .dataframe tbody tr th {\n",
       "        vertical-align: top;\n",
       "    }\n",
       "\n",
       "    .dataframe thead th {\n",
       "        text-align: right;\n",
       "    }\n",
       "</style>\n",
       "<table border=\"1\" class=\"dataframe\">\n",
       "  <thead>\n",
       "    <tr style=\"text-align: right;\">\n",
       "      <th></th>\n",
       "      <th>Administrative</th>\n",
       "      <th>Administrative_Duration</th>\n",
       "      <th>Informational</th>\n",
       "      <th>Informational_Duration</th>\n",
       "      <th>ProductRelated</th>\n",
       "      <th>ProductRelated_Duration</th>\n",
       "      <th>BounceRates</th>\n",
       "      <th>ExitRates</th>\n",
       "      <th>PageValues</th>\n",
       "      <th>SpecialDay</th>\n",
       "      <th>Month</th>\n",
       "      <th>OperatingSystems</th>\n",
       "      <th>Browser</th>\n",
       "      <th>Region</th>\n",
       "      <th>TrafficType</th>\n",
       "      <th>VisitorType</th>\n",
       "      <th>Weekend</th>\n",
       "      <th>Revenue</th>\n",
       "      <th>labels</th>\n",
       "    </tr>\n",
       "  </thead>\n",
       "  <tbody>\n",
       "    <tr>\n",
       "      <th>0</th>\n",
       "      <td>-0.696993</td>\n",
       "      <td>-0.457191</td>\n",
       "      <td>-0.396478</td>\n",
       "      <td>-0.244931</td>\n",
       "      <td>-0.691003</td>\n",
       "      <td>-0.624348</td>\n",
       "      <td>3.667189</td>\n",
       "      <td>3.229316</td>\n",
       "      <td>-0.317178</td>\n",
       "      <td>-0.308821</td>\n",
       "      <td>-1.334959</td>\n",
       "      <td>-1.233426</td>\n",
       "      <td>-0.790293</td>\n",
       "      <td>-0.894178</td>\n",
       "      <td>-0.762629</td>\n",
       "      <td>0.407786</td>\n",
       "      <td>-0.550552</td>\n",
       "      <td>-0.427872</td>\n",
       "      <td>1</td>\n",
       "    </tr>\n",
       "    <tr>\n",
       "      <th>1</th>\n",
       "      <td>-0.696993</td>\n",
       "      <td>-0.457191</td>\n",
       "      <td>-0.396478</td>\n",
       "      <td>-0.244931</td>\n",
       "      <td>-0.668518</td>\n",
       "      <td>-0.590903</td>\n",
       "      <td>-0.457683</td>\n",
       "      <td>1.171473</td>\n",
       "      <td>-0.317178</td>\n",
       "      <td>-0.308821</td>\n",
       "      <td>-1.334959</td>\n",
       "      <td>-0.136078</td>\n",
       "      <td>-0.207952</td>\n",
       "      <td>-0.894178</td>\n",
       "      <td>-0.514182</td>\n",
       "      <td>0.407786</td>\n",
       "      <td>-0.550552</td>\n",
       "      <td>-0.427872</td>\n",
       "      <td>2</td>\n",
       "    </tr>\n",
       "    <tr>\n",
       "      <th>2</th>\n",
       "      <td>-0.696993</td>\n",
       "      <td>-0.457191</td>\n",
       "      <td>-0.396478</td>\n",
       "      <td>-0.244931</td>\n",
       "      <td>-0.691003</td>\n",
       "      <td>-0.624348</td>\n",
       "      <td>3.667189</td>\n",
       "      <td>3.229316</td>\n",
       "      <td>-0.317178</td>\n",
       "      <td>-0.308821</td>\n",
       "      <td>-1.334959</td>\n",
       "      <td>2.058618</td>\n",
       "      <td>-0.790293</td>\n",
       "      <td>2.437081</td>\n",
       "      <td>-0.265735</td>\n",
       "      <td>0.407786</td>\n",
       "      <td>-0.550552</td>\n",
       "      <td>-0.427872</td>\n",
       "      <td>1</td>\n",
       "    </tr>\n",
       "    <tr>\n",
       "      <th>3</th>\n",
       "      <td>-0.696993</td>\n",
       "      <td>-0.457191</td>\n",
       "      <td>-0.396478</td>\n",
       "      <td>-0.244931</td>\n",
       "      <td>-0.668518</td>\n",
       "      <td>-0.622954</td>\n",
       "      <td>0.573535</td>\n",
       "      <td>1.994610</td>\n",
       "      <td>-0.317178</td>\n",
       "      <td>-0.308821</td>\n",
       "      <td>-1.334959</td>\n",
       "      <td>0.961270</td>\n",
       "      <td>-0.207952</td>\n",
       "      <td>-0.477771</td>\n",
       "      <td>-0.017289</td>\n",
       "      <td>0.407786</td>\n",
       "      <td>-0.550552</td>\n",
       "      <td>-0.427872</td>\n",
       "      <td>1</td>\n",
       "    </tr>\n",
       "    <tr>\n",
       "      <th>4</th>\n",
       "      <td>-0.696993</td>\n",
       "      <td>-0.457191</td>\n",
       "      <td>-0.396478</td>\n",
       "      <td>-0.244931</td>\n",
       "      <td>-0.488636</td>\n",
       "      <td>-0.296430</td>\n",
       "      <td>-0.045196</td>\n",
       "      <td>0.142551</td>\n",
       "      <td>-0.317178</td>\n",
       "      <td>-0.308821</td>\n",
       "      <td>-1.334959</td>\n",
       "      <td>0.961270</td>\n",
       "      <td>0.374389</td>\n",
       "      <td>-0.894178</td>\n",
       "      <td>-0.017289</td>\n",
       "      <td>0.407786</td>\n",
       "      <td>1.816360</td>\n",
       "      <td>-0.427872</td>\n",
       "      <td>2</td>\n",
       "    </tr>\n",
       "  </tbody>\n",
       "</table>\n",
       "</div>"
      ],
      "text/plain": [
       "   Administrative  Administrative_Duration  Informational  \\\n",
       "0       -0.696993                -0.457191      -0.396478   \n",
       "1       -0.696993                -0.457191      -0.396478   \n",
       "2       -0.696993                -0.457191      -0.396478   \n",
       "3       -0.696993                -0.457191      -0.396478   \n",
       "4       -0.696993                -0.457191      -0.396478   \n",
       "\n",
       "   Informational_Duration  ProductRelated  ProductRelated_Duration  \\\n",
       "0               -0.244931       -0.691003                -0.624348   \n",
       "1               -0.244931       -0.668518                -0.590903   \n",
       "2               -0.244931       -0.691003                -0.624348   \n",
       "3               -0.244931       -0.668518                -0.622954   \n",
       "4               -0.244931       -0.488636                -0.296430   \n",
       "\n",
       "   BounceRates  ExitRates  PageValues  SpecialDay     Month  OperatingSystems  \\\n",
       "0     3.667189   3.229316   -0.317178   -0.308821 -1.334959         -1.233426   \n",
       "1    -0.457683   1.171473   -0.317178   -0.308821 -1.334959         -0.136078   \n",
       "2     3.667189   3.229316   -0.317178   -0.308821 -1.334959          2.058618   \n",
       "3     0.573535   1.994610   -0.317178   -0.308821 -1.334959          0.961270   \n",
       "4    -0.045196   0.142551   -0.317178   -0.308821 -1.334959          0.961270   \n",
       "\n",
       "    Browser    Region  TrafficType  VisitorType   Weekend   Revenue  labels  \n",
       "0 -0.790293 -0.894178    -0.762629     0.407786 -0.550552 -0.427872       1  \n",
       "1 -0.207952 -0.894178    -0.514182     0.407786 -0.550552 -0.427872       2  \n",
       "2 -0.790293  2.437081    -0.265735     0.407786 -0.550552 -0.427872       1  \n",
       "3 -0.207952 -0.477771    -0.017289     0.407786 -0.550552 -0.427872       1  \n",
       "4  0.374389 -0.894178    -0.017289     0.407786  1.816360 -0.427872       2  "
      ]
     },
     "execution_count": 19,
     "metadata": {},
     "output_type": "execute_result"
    }
   ],
   "source": [
    "df_sc.head()"
   ]
  },
  {
   "cell_type": "code",
   "execution_count": 20,
   "id": "8517ef4e",
   "metadata": {},
   "outputs": [
    {
     "data": {
      "image/png": "[encoded data removed]",
      "text/plain": [
       "<Figure size 1440x576 with 1 Axes>"
      ]
     },
     "metadata": {
      "needs_background": "light"
     },
     "output_type": "display_data"
    }
   ],
   "source": [
    "sns.scatterplot(x=df_sc[\"PageValues\"], y=df_sc[\"ExitRates\"],\n",
    "               hue = df_sc[\"labels\"],\n",
    "               palette=[\"green\",\"red\",\"yellow\"])\n",
    "plt.show()"
   ]
  },
  {
   "cell_type": "markdown",
   "id": "329f2b61",
   "metadata": {},
   "source": [
    "#### B.) Silhouette score"
   ]
  },
  {
   "cell_type": "code",
   "execution_count": 21,
   "id": "05381a4e",
   "metadata": {},
   "outputs": [],
   "source": [
    "from yellowbrick.cluster import SilhouetteVisualizer\n",
    "\n",
    "from sklearn.metrics import silhouette_score"
   ]
  },
  {
   "cell_type": "code",
   "execution_count": 22,
   "id": "acc9c612",
   "metadata": {},
   "outputs": [
    {
     "name": "stdout",
     "output_type": "stream",
     "text": [
      "Silhouette score for  2 clusters 0.3063\n",
      "Silhouette score for  3 clusters 0.2497\n",
      "Silhouette score for  4 clusters 0.1714\n",
      "Silhouette score for  5 clusters 0.1982\n",
      "Silhouette score for  6 clusters 0.1914\n",
      "Silhouette score for  7 clusters 0.1979\n",
      "Silhouette score for  8 clusters 0.1535\n",
      "Silhouette score for  9 clusters 0.1579\n"
     ]
    }
   ],
   "source": [
    "for i in range(2,10):\n",
    "    km = KMeans(n_clusters=i, random_state=100)\n",
    "    km.fit(df_sc)\n",
    "    sil_score = silhouette_score(df_sc, km.labels_)\n",
    "    print(\"Silhouette score for \", i, \"clusters\", round(sil_score,4))"
   ]
  },
  {
   "cell_type": "markdown",
   "id": "b5969d40",
   "metadata": {},
   "source": [
    "From the Silhouette score, k=2"
   ]
  },
  {
   "cell_type": "code",
   "execution_count": 23,
   "id": "3f3aa289",
   "metadata": {},
   "outputs": [
    {
     "name": "stdout",
     "output_type": "stream",
     "text": [
      "Silhouette score for  2 cluster 0.3063\n"
     ]
    },
    {
     "data": {
      "image/png": "[encoded data removed]",
      "text/plain": [
       "<Figure size 576x396 with 1 Axes>"
      ]
     },
     "metadata": {},
     "output_type": "display_data"
    }
   ],
   "source": [
    "km = KMeans(n_clusters=2, random_state=100)\n",
    "km.fit(df_sc)\n",
    "sil_score = silhouette_score(df_sc, km.labels_)\n",
    "print(\"Silhouette score for \",2, \"cluster\", round(sil_score,4))\n",
    "\n",
    "viz = SilhouetteVisualizer(km)\n",
    "viz.fit(df_sc)\n",
    "plt.show()"
   ]
  },
  {
   "cell_type": "markdown",
   "id": "830ad57e",
   "metadata": {},
   "source": [
    "## ii.) density based "
   ]
  },
  {
   "cell_type": "code",
   "execution_count": 24,
   "id": "27841c69",
   "metadata": {},
   "outputs": [],
   "source": [
    "from sklearn.cluster import AgglomerativeClustering\n",
    "\n",
    "from yellowbrick.cluster import SilhouetteVisualizer\n",
    "\n",
    "from sklearn.metrics import silhouette_score"
   ]
  },
  {
   "cell_type": "code",
   "execution_count": 25,
   "id": "d256fd7f",
   "metadata": {},
   "outputs": [
    {
     "data": {
      "text/html": [
       "<div>\n",
       "<style scoped>\n",
       "    .dataframe tbody tr th:only-of-type {\n",
       "        vertical-align: middle;\n",
       "    }\n",
       "\n",
       "    .dataframe tbody tr th {\n",
       "        vertical-align: top;\n",
       "    }\n",
       "\n",
       "    .dataframe thead th {\n",
       "        text-align: right;\n",
       "    }\n",
       "</style>\n",
       "<table border=\"1\" class=\"dataframe\">\n",
       "  <thead>\n",
       "    <tr style=\"text-align: right;\">\n",
       "      <th></th>\n",
       "      <th>Administrative</th>\n",
       "      <th>Administrative_Duration</th>\n",
       "      <th>Informational</th>\n",
       "      <th>Informational_Duration</th>\n",
       "      <th>ProductRelated</th>\n",
       "      <th>ProductRelated_Duration</th>\n",
       "      <th>BounceRates</th>\n",
       "      <th>ExitRates</th>\n",
       "      <th>PageValues</th>\n",
       "      <th>SpecialDay</th>\n",
       "      <th>Month</th>\n",
       "      <th>OperatingSystems</th>\n",
       "      <th>Browser</th>\n",
       "      <th>Region</th>\n",
       "      <th>TrafficType</th>\n",
       "      <th>VisitorType</th>\n",
       "      <th>Weekend</th>\n",
       "    </tr>\n",
       "  </thead>\n",
       "  <tbody>\n",
       "    <tr>\n",
       "      <th>0</th>\n",
       "      <td>0</td>\n",
       "      <td>0.0</td>\n",
       "      <td>0</td>\n",
       "      <td>0.0</td>\n",
       "      <td>1</td>\n",
       "      <td>0.000000</td>\n",
       "      <td>0.20</td>\n",
       "      <td>0.20</td>\n",
       "      <td>0.0</td>\n",
       "      <td>0.0</td>\n",
       "      <td>2</td>\n",
       "      <td>1</td>\n",
       "      <td>1</td>\n",
       "      <td>1</td>\n",
       "      <td>1</td>\n",
       "      <td>2</td>\n",
       "      <td>0</td>\n",
       "    </tr>\n",
       "    <tr>\n",
       "      <th>1</th>\n",
       "      <td>0</td>\n",
       "      <td>0.0</td>\n",
       "      <td>0</td>\n",
       "      <td>0.0</td>\n",
       "      <td>2</td>\n",
       "      <td>64.000000</td>\n",
       "      <td>0.00</td>\n",
       "      <td>0.10</td>\n",
       "      <td>0.0</td>\n",
       "      <td>0.0</td>\n",
       "      <td>2</td>\n",
       "      <td>2</td>\n",
       "      <td>2</td>\n",
       "      <td>1</td>\n",
       "      <td>2</td>\n",
       "      <td>2</td>\n",
       "      <td>0</td>\n",
       "    </tr>\n",
       "    <tr>\n",
       "      <th>2</th>\n",
       "      <td>0</td>\n",
       "      <td>0.0</td>\n",
       "      <td>0</td>\n",
       "      <td>0.0</td>\n",
       "      <td>1</td>\n",
       "      <td>0.000000</td>\n",
       "      <td>0.20</td>\n",
       "      <td>0.20</td>\n",
       "      <td>0.0</td>\n",
       "      <td>0.0</td>\n",
       "      <td>2</td>\n",
       "      <td>4</td>\n",
       "      <td>1</td>\n",
       "      <td>9</td>\n",
       "      <td>3</td>\n",
       "      <td>2</td>\n",
       "      <td>0</td>\n",
       "    </tr>\n",
       "    <tr>\n",
       "      <th>3</th>\n",
       "      <td>0</td>\n",
       "      <td>0.0</td>\n",
       "      <td>0</td>\n",
       "      <td>0.0</td>\n",
       "      <td>2</td>\n",
       "      <td>2.666667</td>\n",
       "      <td>0.05</td>\n",
       "      <td>0.14</td>\n",
       "      <td>0.0</td>\n",
       "      <td>0.0</td>\n",
       "      <td>2</td>\n",
       "      <td>3</td>\n",
       "      <td>2</td>\n",
       "      <td>2</td>\n",
       "      <td>4</td>\n",
       "      <td>2</td>\n",
       "      <td>0</td>\n",
       "    </tr>\n",
       "    <tr>\n",
       "      <th>4</th>\n",
       "      <td>0</td>\n",
       "      <td>0.0</td>\n",
       "      <td>0</td>\n",
       "      <td>0.0</td>\n",
       "      <td>10</td>\n",
       "      <td>627.500000</td>\n",
       "      <td>0.02</td>\n",
       "      <td>0.05</td>\n",
       "      <td>0.0</td>\n",
       "      <td>0.0</td>\n",
       "      <td>2</td>\n",
       "      <td>3</td>\n",
       "      <td>3</td>\n",
       "      <td>1</td>\n",
       "      <td>4</td>\n",
       "      <td>2</td>\n",
       "      <td>1</td>\n",
       "    </tr>\n",
       "  </tbody>\n",
       "</table>\n",
       "</div>"
      ],
      "text/plain": [
       "   Administrative  Administrative_Duration  Informational  \\\n",
       "0               0                      0.0              0   \n",
       "1               0                      0.0              0   \n",
       "2               0                      0.0              0   \n",
       "3               0                      0.0              0   \n",
       "4               0                      0.0              0   \n",
       "\n",
       "   Informational_Duration  ProductRelated  ProductRelated_Duration  \\\n",
       "0                     0.0               1                 0.000000   \n",
       "1                     0.0               2                64.000000   \n",
       "2                     0.0               1                 0.000000   \n",
       "3                     0.0               2                 2.666667   \n",
       "4                     0.0              10               627.500000   \n",
       "\n",
       "   BounceRates  ExitRates  PageValues  SpecialDay  Month  OperatingSystems  \\\n",
       "0         0.20       0.20         0.0         0.0      2                 1   \n",
       "1         0.00       0.10         0.0         0.0      2                 2   \n",
       "2         0.20       0.20         0.0         0.0      2                 4   \n",
       "3         0.05       0.14         0.0         0.0      2                 3   \n",
       "4         0.02       0.05         0.0         0.0      2                 3   \n",
       "\n",
       "   Browser  Region  TrafficType  VisitorType  Weekend  \n",
       "0        1       1            1            2        0  \n",
       "1        2       1            2            2        0  \n",
       "2        1       9            3            2        0  \n",
       "3        2       2            4            2        0  \n",
       "4        3       1            4            2        1  "
      ]
     },
     "execution_count": 25,
     "metadata": {},
     "output_type": "execute_result"
    }
   ],
   "source": [
    "db_inde = df.drop(\"Revenue\", axis=1)\n",
    "db_inde.head()"
   ]
  },
  {
   "cell_type": "code",
   "execution_count": 26,
   "id": "16f4d18a",
   "metadata": {},
   "outputs": [
    {
     "data": {
      "text/html": [
       "<div>\n",
       "<style scoped>\n",
       "    .dataframe tbody tr th:only-of-type {\n",
       "        vertical-align: middle;\n",
       "    }\n",
       "\n",
       "    .dataframe tbody tr th {\n",
       "        vertical-align: top;\n",
       "    }\n",
       "\n",
       "    .dataframe thead th {\n",
       "        text-align: right;\n",
       "    }\n",
       "</style>\n",
       "<table border=\"1\" class=\"dataframe\">\n",
       "  <thead>\n",
       "    <tr style=\"text-align: right;\">\n",
       "      <th></th>\n",
       "      <th>Administrative</th>\n",
       "      <th>Administrative_Duration</th>\n",
       "      <th>Informational</th>\n",
       "      <th>Informational_Duration</th>\n",
       "      <th>ProductRelated</th>\n",
       "      <th>ProductRelated_Duration</th>\n",
       "      <th>BounceRates</th>\n",
       "      <th>ExitRates</th>\n",
       "      <th>PageValues</th>\n",
       "      <th>SpecialDay</th>\n",
       "      <th>Month</th>\n",
       "      <th>OperatingSystems</th>\n",
       "      <th>Browser</th>\n",
       "      <th>Region</th>\n",
       "      <th>TrafficType</th>\n",
       "      <th>VisitorType</th>\n",
       "      <th>Weekend</th>\n",
       "    </tr>\n",
       "  </thead>\n",
       "  <tbody>\n",
       "    <tr>\n",
       "      <th>0</th>\n",
       "      <td>-0.696993</td>\n",
       "      <td>-0.457191</td>\n",
       "      <td>-0.396478</td>\n",
       "      <td>-0.244931</td>\n",
       "      <td>-0.691003</td>\n",
       "      <td>-0.624348</td>\n",
       "      <td>3.667189</td>\n",
       "      <td>3.229316</td>\n",
       "      <td>-0.317178</td>\n",
       "      <td>-0.308821</td>\n",
       "      <td>-1.334959</td>\n",
       "      <td>-1.233426</td>\n",
       "      <td>-0.790293</td>\n",
       "      <td>-0.894178</td>\n",
       "      <td>-0.762629</td>\n",
       "      <td>0.407786</td>\n",
       "      <td>-0.550552</td>\n",
       "    </tr>\n",
       "    <tr>\n",
       "      <th>1</th>\n",
       "      <td>-0.696993</td>\n",
       "      <td>-0.457191</td>\n",
       "      <td>-0.396478</td>\n",
       "      <td>-0.244931</td>\n",
       "      <td>-0.668518</td>\n",
       "      <td>-0.590903</td>\n",
       "      <td>-0.457683</td>\n",
       "      <td>1.171473</td>\n",
       "      <td>-0.317178</td>\n",
       "      <td>-0.308821</td>\n",
       "      <td>-1.334959</td>\n",
       "      <td>-0.136078</td>\n",
       "      <td>-0.207952</td>\n",
       "      <td>-0.894178</td>\n",
       "      <td>-0.514182</td>\n",
       "      <td>0.407786</td>\n",
       "      <td>-0.550552</td>\n",
       "    </tr>\n",
       "    <tr>\n",
       "      <th>2</th>\n",
       "      <td>-0.696993</td>\n",
       "      <td>-0.457191</td>\n",
       "      <td>-0.396478</td>\n",
       "      <td>-0.244931</td>\n",
       "      <td>-0.691003</td>\n",
       "      <td>-0.624348</td>\n",
       "      <td>3.667189</td>\n",
       "      <td>3.229316</td>\n",
       "      <td>-0.317178</td>\n",
       "      <td>-0.308821</td>\n",
       "      <td>-1.334959</td>\n",
       "      <td>2.058618</td>\n",
       "      <td>-0.790293</td>\n",
       "      <td>2.437081</td>\n",
       "      <td>-0.265735</td>\n",
       "      <td>0.407786</td>\n",
       "      <td>-0.550552</td>\n",
       "    </tr>\n",
       "    <tr>\n",
       "      <th>3</th>\n",
       "      <td>-0.696993</td>\n",
       "      <td>-0.457191</td>\n",
       "      <td>-0.396478</td>\n",
       "      <td>-0.244931</td>\n",
       "      <td>-0.668518</td>\n",
       "      <td>-0.622954</td>\n",
       "      <td>0.573535</td>\n",
       "      <td>1.994610</td>\n",
       "      <td>-0.317178</td>\n",
       "      <td>-0.308821</td>\n",
       "      <td>-1.334959</td>\n",
       "      <td>0.961270</td>\n",
       "      <td>-0.207952</td>\n",
       "      <td>-0.477771</td>\n",
       "      <td>-0.017289</td>\n",
       "      <td>0.407786</td>\n",
       "      <td>-0.550552</td>\n",
       "    </tr>\n",
       "    <tr>\n",
       "      <th>4</th>\n",
       "      <td>-0.696993</td>\n",
       "      <td>-0.457191</td>\n",
       "      <td>-0.396478</td>\n",
       "      <td>-0.244931</td>\n",
       "      <td>-0.488636</td>\n",
       "      <td>-0.296430</td>\n",
       "      <td>-0.045196</td>\n",
       "      <td>0.142551</td>\n",
       "      <td>-0.317178</td>\n",
       "      <td>-0.308821</td>\n",
       "      <td>-1.334959</td>\n",
       "      <td>0.961270</td>\n",
       "      <td>0.374389</td>\n",
       "      <td>-0.894178</td>\n",
       "      <td>-0.017289</td>\n",
       "      <td>0.407786</td>\n",
       "      <td>1.816360</td>\n",
       "    </tr>\n",
       "  </tbody>\n",
       "</table>\n",
       "</div>"
      ],
      "text/plain": [
       "   Administrative  Administrative_Duration  Informational  \\\n",
       "0       -0.696993                -0.457191      -0.396478   \n",
       "1       -0.696993                -0.457191      -0.396478   \n",
       "2       -0.696993                -0.457191      -0.396478   \n",
       "3       -0.696993                -0.457191      -0.396478   \n",
       "4       -0.696993                -0.457191      -0.396478   \n",
       "\n",
       "   Informational_Duration  ProductRelated  ProductRelated_Duration  \\\n",
       "0               -0.244931       -0.691003                -0.624348   \n",
       "1               -0.244931       -0.668518                -0.590903   \n",
       "2               -0.244931       -0.691003                -0.624348   \n",
       "3               -0.244931       -0.668518                -0.622954   \n",
       "4               -0.244931       -0.488636                -0.296430   \n",
       "\n",
       "   BounceRates  ExitRates  PageValues  SpecialDay     Month  OperatingSystems  \\\n",
       "0     3.667189   3.229316   -0.317178   -0.308821 -1.334959         -1.233426   \n",
       "1    -0.457683   1.171473   -0.317178   -0.308821 -1.334959         -0.136078   \n",
       "2     3.667189   3.229316   -0.317178   -0.308821 -1.334959          2.058618   \n",
       "3     0.573535   1.994610   -0.317178   -0.308821 -1.334959          0.961270   \n",
       "4    -0.045196   0.142551   -0.317178   -0.308821 -1.334959          0.961270   \n",
       "\n",
       "    Browser    Region  TrafficType  VisitorType   Weekend  \n",
       "0 -0.790293 -0.894178    -0.762629     0.407786 -0.550552  \n",
       "1 -0.207952 -0.894178    -0.514182     0.407786 -0.550552  \n",
       "2 -0.790293  2.437081    -0.265735     0.407786 -0.550552  \n",
       "3 -0.207952 -0.477771    -0.017289     0.407786 -0.550552  \n",
       "4  0.374389 -0.894178    -0.017289     0.407786  1.816360  "
      ]
     },
     "execution_count": 26,
     "metadata": {},
     "output_type": "execute_result"
    }
   ],
   "source": [
    "db_inde_sc = sc.fit_transform(db_inde)\n",
    "\n",
    "db_inde_sc = pd.DataFrame(db_inde_sc, columns=db_inde.columns)\n",
    "\n",
    "db_inde_sc.head()"
   ]
  },
  {
   "cell_type": "markdown",
   "id": "f3f94bd1",
   "metadata": {},
   "source": [
    "#### A.) Elbow plot"
   ]
  },
  {
   "cell_type": "code",
   "execution_count": 27,
   "id": "0368736f",
   "metadata": {},
   "outputs": [],
   "source": [
    "error = []\n",
    "\n",
    "for i in range(1,15):\n",
    "    km = KMeans(n_clusters=i, random_state=100)\n",
    "    km.fit(db_inde_sc)\n",
    "    error.append(km.inertia_)"
   ]
  },
  {
   "cell_type": "code",
   "execution_count": 28,
   "id": "def0d6f5",
   "metadata": {},
   "outputs": [
    {
     "data": {
      "text/plain": [
       "[209610.00000000003,\n",
       " 185774.3594980273,\n",
       " 166000.54947364583,\n",
       " 153941.82870479455,\n",
       " 145654.40249359192,\n",
       " 136758.64686867144,\n",
       " 130852.70421372322,\n",
       " 124340.07261700871,\n",
       " 118973.31669058559,\n",
       " 114072.59504088834,\n",
       " 108965.39722192578,\n",
       " 104777.36875043224,\n",
       " 102178.54056640064,\n",
       " 98736.35665342136]"
      ]
     },
     "execution_count": 28,
     "metadata": {},
     "output_type": "execute_result"
    }
   ],
   "source": [
    "error"
   ]
  },
  {
   "cell_type": "code",
   "execution_count": 29,
   "id": "35d4fa98",
   "metadata": {},
   "outputs": [
    {
     "data": {
      "image/png": "[encoded data removed]",
      "text/plain": [
       "<Figure size 576x396 with 1 Axes>"
      ]
     },
     "metadata": {},
     "output_type": "display_data"
    }
   ],
   "source": [
    "plt.plot(range(1,15), error, marker=\"o\")\n",
    "\n",
    "plt.xlabel(\"No of clusters\")\n",
    "plt.ylabel(\"Error\")\n",
    "plt.title(\"Elbow Plot\")\n",
    "plt.show()"
   ]
  },
  {
   "cell_type": "markdown",
   "id": "652d1bae",
   "metadata": {},
   "source": [
    "From the above plot, k = 5"
   ]
  },
  {
   "cell_type": "markdown",
   "id": "53947d7e",
   "metadata": {},
   "source": [
    "#### B.) Silhouette score"
   ]
  },
  {
   "cell_type": "code",
   "execution_count": 30,
   "id": "b4778795",
   "metadata": {},
   "outputs": [
    {
     "name": "stdout",
     "output_type": "stream",
     "text": [
      "Silhouette score for  2 clusters 0.2599\n",
      "Silhouette score for  3 clusters 0.2477\n",
      "Silhouette score for  4 clusters 0.1967\n",
      "Silhouette score for  5 clusters 0.1503\n",
      "Silhouette score for  6 clusters 0.1585\n",
      "Silhouette score for  7 clusters 0.1947\n",
      "Silhouette score for  8 clusters 0.1637\n",
      "Silhouette score for  9 clusters 0.1678\n"
     ]
    }
   ],
   "source": [
    "for i in range(2,10):\n",
    "    km = KMeans(n_clusters=i, random_state=100)\n",
    "    km.fit(db_inde_sc)\n",
    "    sil_score = silhouette_score(db_inde_sc, km.labels_)\n",
    "    print(\"Silhouette score for \", i, \"clusters\", round(sil_score,4))"
   ]
  },
  {
   "cell_type": "markdown",
   "id": "a41675a2",
   "metadata": {},
   "source": [
    "So, create a model with 2 clusters"
   ]
  },
  {
   "cell_type": "code",
   "execution_count": 31,
   "id": "2b7dc367",
   "metadata": {},
   "outputs": [
    {
     "data": {
      "text/plain": [
       "KMeans(n_clusters=2, random_state=100)"
      ]
     },
     "execution_count": 31,
     "metadata": {},
     "output_type": "execute_result"
    }
   ],
   "source": [
    "model = KMeans(n_clusters=2, random_state=100)\n",
    "model.fit(db_inde_sc)"
   ]
  },
  {
   "cell_type": "code",
   "execution_count": 32,
   "id": "6af999b6",
   "metadata": {},
   "outputs": [
    {
     "data": {
      "text/html": [
       "<div>\n",
       "<style scoped>\n",
       "    .dataframe tbody tr th:only-of-type {\n",
       "        vertical-align: middle;\n",
       "    }\n",
       "\n",
       "    .dataframe tbody tr th {\n",
       "        vertical-align: top;\n",
       "    }\n",
       "\n",
       "    .dataframe thead th {\n",
       "        text-align: right;\n",
       "    }\n",
       "</style>\n",
       "<table border=\"1\" class=\"dataframe\">\n",
       "  <thead>\n",
       "    <tr style=\"text-align: right;\">\n",
       "      <th></th>\n",
       "      <th>Administrative</th>\n",
       "      <th>Administrative_Duration</th>\n",
       "      <th>Informational</th>\n",
       "      <th>Informational_Duration</th>\n",
       "      <th>ProductRelated</th>\n",
       "      <th>ProductRelated_Duration</th>\n",
       "      <th>BounceRates</th>\n",
       "      <th>ExitRates</th>\n",
       "      <th>PageValues</th>\n",
       "      <th>SpecialDay</th>\n",
       "      <th>Month</th>\n",
       "      <th>OperatingSystems</th>\n",
       "      <th>Browser</th>\n",
       "      <th>Region</th>\n",
       "      <th>TrafficType</th>\n",
       "      <th>VisitorType</th>\n",
       "      <th>Weekend</th>\n",
       "      <th>Labels</th>\n",
       "    </tr>\n",
       "  </thead>\n",
       "  <tbody>\n",
       "    <tr>\n",
       "      <th>0</th>\n",
       "      <td>-0.696993</td>\n",
       "      <td>-0.457191</td>\n",
       "      <td>-0.396478</td>\n",
       "      <td>-0.244931</td>\n",
       "      <td>-0.691003</td>\n",
       "      <td>-0.624348</td>\n",
       "      <td>3.667189</td>\n",
       "      <td>3.229316</td>\n",
       "      <td>-0.317178</td>\n",
       "      <td>-0.308821</td>\n",
       "      <td>-1.334959</td>\n",
       "      <td>-1.233426</td>\n",
       "      <td>-0.790293</td>\n",
       "      <td>-0.894178</td>\n",
       "      <td>-0.762629</td>\n",
       "      <td>0.407786</td>\n",
       "      <td>-0.550552</td>\n",
       "      <td>0</td>\n",
       "    </tr>\n",
       "    <tr>\n",
       "      <th>1</th>\n",
       "      <td>-0.696993</td>\n",
       "      <td>-0.457191</td>\n",
       "      <td>-0.396478</td>\n",
       "      <td>-0.244931</td>\n",
       "      <td>-0.668518</td>\n",
       "      <td>-0.590903</td>\n",
       "      <td>-0.457683</td>\n",
       "      <td>1.171473</td>\n",
       "      <td>-0.317178</td>\n",
       "      <td>-0.308821</td>\n",
       "      <td>-1.334959</td>\n",
       "      <td>-0.136078</td>\n",
       "      <td>-0.207952</td>\n",
       "      <td>-0.894178</td>\n",
       "      <td>-0.514182</td>\n",
       "      <td>0.407786</td>\n",
       "      <td>-0.550552</td>\n",
       "      <td>0</td>\n",
       "    </tr>\n",
       "    <tr>\n",
       "      <th>2</th>\n",
       "      <td>-0.696993</td>\n",
       "      <td>-0.457191</td>\n",
       "      <td>-0.396478</td>\n",
       "      <td>-0.244931</td>\n",
       "      <td>-0.691003</td>\n",
       "      <td>-0.624348</td>\n",
       "      <td>3.667189</td>\n",
       "      <td>3.229316</td>\n",
       "      <td>-0.317178</td>\n",
       "      <td>-0.308821</td>\n",
       "      <td>-1.334959</td>\n",
       "      <td>2.058618</td>\n",
       "      <td>-0.790293</td>\n",
       "      <td>2.437081</td>\n",
       "      <td>-0.265735</td>\n",
       "      <td>0.407786</td>\n",
       "      <td>-0.550552</td>\n",
       "      <td>0</td>\n",
       "    </tr>\n",
       "    <tr>\n",
       "      <th>3</th>\n",
       "      <td>-0.696993</td>\n",
       "      <td>-0.457191</td>\n",
       "      <td>-0.396478</td>\n",
       "      <td>-0.244931</td>\n",
       "      <td>-0.668518</td>\n",
       "      <td>-0.622954</td>\n",
       "      <td>0.573535</td>\n",
       "      <td>1.994610</td>\n",
       "      <td>-0.317178</td>\n",
       "      <td>-0.308821</td>\n",
       "      <td>-1.334959</td>\n",
       "      <td>0.961270</td>\n",
       "      <td>-0.207952</td>\n",
       "      <td>-0.477771</td>\n",
       "      <td>-0.017289</td>\n",
       "      <td>0.407786</td>\n",
       "      <td>-0.550552</td>\n",
       "      <td>0</td>\n",
       "    </tr>\n",
       "    <tr>\n",
       "      <th>4</th>\n",
       "      <td>-0.696993</td>\n",
       "      <td>-0.457191</td>\n",
       "      <td>-0.396478</td>\n",
       "      <td>-0.244931</td>\n",
       "      <td>-0.488636</td>\n",
       "      <td>-0.296430</td>\n",
       "      <td>-0.045196</td>\n",
       "      <td>0.142551</td>\n",
       "      <td>-0.317178</td>\n",
       "      <td>-0.308821</td>\n",
       "      <td>-1.334959</td>\n",
       "      <td>0.961270</td>\n",
       "      <td>0.374389</td>\n",
       "      <td>-0.894178</td>\n",
       "      <td>-0.017289</td>\n",
       "      <td>0.407786</td>\n",
       "      <td>1.816360</td>\n",
       "      <td>0</td>\n",
       "    </tr>\n",
       "  </tbody>\n",
       "</table>\n",
       "</div>"
      ],
      "text/plain": [
       "   Administrative  Administrative_Duration  Informational  \\\n",
       "0       -0.696993                -0.457191      -0.396478   \n",
       "1       -0.696993                -0.457191      -0.396478   \n",
       "2       -0.696993                -0.457191      -0.396478   \n",
       "3       -0.696993                -0.457191      -0.396478   \n",
       "4       -0.696993                -0.457191      -0.396478   \n",
       "\n",
       "   Informational_Duration  ProductRelated  ProductRelated_Duration  \\\n",
       "0               -0.244931       -0.691003                -0.624348   \n",
       "1               -0.244931       -0.668518                -0.590903   \n",
       "2               -0.244931       -0.691003                -0.624348   \n",
       "3               -0.244931       -0.668518                -0.622954   \n",
       "4               -0.244931       -0.488636                -0.296430   \n",
       "\n",
       "   BounceRates  ExitRates  PageValues  SpecialDay     Month  OperatingSystems  \\\n",
       "0     3.667189   3.229316   -0.317178   -0.308821 -1.334959         -1.233426   \n",
       "1    -0.457683   1.171473   -0.317178   -0.308821 -1.334959         -0.136078   \n",
       "2     3.667189   3.229316   -0.317178   -0.308821 -1.334959          2.058618   \n",
       "3     0.573535   1.994610   -0.317178   -0.308821 -1.334959          0.961270   \n",
       "4    -0.045196   0.142551   -0.317178   -0.308821 -1.334959          0.961270   \n",
       "\n",
       "    Browser    Region  TrafficType  VisitorType   Weekend  Labels  \n",
       "0 -0.790293 -0.894178    -0.762629     0.407786 -0.550552       0  \n",
       "1 -0.207952 -0.894178    -0.514182     0.407786 -0.550552       0  \n",
       "2 -0.790293  2.437081    -0.265735     0.407786 -0.550552       0  \n",
       "3 -0.207952 -0.477771    -0.017289     0.407786 -0.550552       0  \n",
       "4  0.374389 -0.894178    -0.017289     0.407786  1.816360       0  "
      ]
     },
     "execution_count": 32,
     "metadata": {},
     "output_type": "execute_result"
    }
   ],
   "source": [
    "db_inde_sc[\"Labels\"] = model.labels_\n",
    "\n",
    "db_inde_sc.head()"
   ]
  },
  {
   "cell_type": "code",
   "execution_count": 33,
   "id": "a65eeb46",
   "metadata": {},
   "outputs": [
    {
     "data": {
      "image/png": "[encoded data removed]",
      "text/plain": [
       "<Figure size 576x396 with 1 Axes>"
      ]
     },
     "metadata": {},
     "output_type": "display_data"
    }
   ],
   "source": [
    "import seaborn as sns\n",
    "\n",
    "sns.scatterplot(x=db_inde_sc[\"ExitRates\"], y=db_inde_sc[\"Weekend\"],\n",
    "               hue = db_inde_sc[\"Labels\"],\n",
    "               palette=[\"red\",\"green\"])\n",
    "plt.show()"
   ]
  }
 ],
 "metadata": {
  "kernelspec": {
   "display_name": "Python 3 (ipykernel)",
   "language": "python",
   "name": "python3"
  },
  "language_info": {
   "codemirror_mode": {
    "name": "ipython",
    "version": 3
   },
   "file_extension": ".py",
   "mimetype": "text/x-python",
   "name": "python",
   "nbconvert_exporter": "python",
   "pygments_lexer": "ipython3",
   "version": "3.9.7"
  }
 },
 "nbformat": 4,
 "nbformat_minor": 5
}
