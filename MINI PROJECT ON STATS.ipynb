{
 "cells": [
  {
   "cell_type": "markdown",
   "id": "da5d69af",
   "metadata": {},
   "source": [
    "#                                          STATISTICS MINI PROJECT "
   ]
  },
  {
   "cell_type": "markdown",
   "id": "da3378ea",
   "metadata": {},
   "source": [
    "### Importing the required Libraries:"
   ]
  },
  {
   "cell_type": "code",
   "execution_count": 42,
   "id": "90c49d3b",
   "metadata": {},
   "outputs": [],
   "source": [
    "import numpy as np\n",
    "import pandas as pd\n",
    "import seaborn as sns\n",
    "import matplotlib.pyplot as plt\n",
    "\n",
    "from statsmodels.stats import weightstats as stests\n",
    "\n",
    "from scipy import stats\n",
    "\n",
    "import statistics\n",
    "\n",
    "import random\n",
    "\n",
    "from warnings import filterwarnings\n",
    "filterwarnings('ignore')\n",
    "\n",
    "from scipy.stats import chi2_contingency\n",
    "\n",
    "from scipy.stats import shapiro"
   ]
  },
  {
   "cell_type": "markdown",
   "id": "d0f72fd0",
   "metadata": {},
   "source": [
    "\n",
    "## 1. Perform the following statistical analysis on the fifa world cup dataset. The dataset consists of player                                  information, which includes height; weight overall rating, potential etc. Data Cleaning and basic EDA                         process needs to be performed. \n",
    "\n",
    "### Note: \n",
    "### i.) Perform all the Statistical analysis with 5% (Significance level). \n",
    "\n",
    "### ii.) Assume all the features are normally distributed and have equal variance.\n",
    "\n"
   ]
  },
  {
   "cell_type": "code",
   "execution_count": 6,
   "id": "6ce88715",
   "metadata": {},
   "outputs": [
    {
     "data": {
      "text/html": [
       "<div>\n",
       "<style scoped>\n",
       "    .dataframe tbody tr th:only-of-type {\n",
       "        vertical-align: middle;\n",
       "    }\n",
       "\n",
       "    .dataframe tbody tr th {\n",
       "        vertical-align: top;\n",
       "    }\n",
       "\n",
       "    .dataframe thead th {\n",
       "        text-align: right;\n",
       "    }\n",
       "</style>\n",
       "<table border=\"1\" class=\"dataframe\">\n",
       "  <thead>\n",
       "    <tr style=\"text-align: right;\">\n",
       "      <th></th>\n",
       "      <th>Name</th>\n",
       "      <th>Age</th>\n",
       "      <th>Nationality</th>\n",
       "      <th>Overall_rating</th>\n",
       "      <th>Potential</th>\n",
       "      <th>Club</th>\n",
       "      <th>Preferred Foot</th>\n",
       "      <th>International Reputation</th>\n",
       "      <th>Weak Foot</th>\n",
       "      <th>Skill Moves</th>\n",
       "      <th>Work Rate</th>\n",
       "      <th>Position</th>\n",
       "      <th>Jersey Number</th>\n",
       "      <th>Height</th>\n",
       "      <th>Weight</th>\n",
       "    </tr>\n",
       "  </thead>\n",
       "  <tbody>\n",
       "    <tr>\n",
       "      <th>0</th>\n",
       "      <td>L. Messi</td>\n",
       "      <td>31</td>\n",
       "      <td>Argentina</td>\n",
       "      <td>94</td>\n",
       "      <td>94</td>\n",
       "      <td>FC Barcelona</td>\n",
       "      <td>Left</td>\n",
       "      <td>5</td>\n",
       "      <td>4</td>\n",
       "      <td>4</td>\n",
       "      <td>Medium/ Medium</td>\n",
       "      <td>RF</td>\n",
       "      <td>10</td>\n",
       "      <td>5.583333</td>\n",
       "      <td>159</td>\n",
       "    </tr>\n",
       "    <tr>\n",
       "      <th>1</th>\n",
       "      <td>Cristiano Ronaldo</td>\n",
       "      <td>33</td>\n",
       "      <td>Portugal</td>\n",
       "      <td>94</td>\n",
       "      <td>94</td>\n",
       "      <td>Juventus</td>\n",
       "      <td>Right</td>\n",
       "      <td>5</td>\n",
       "      <td>4</td>\n",
       "      <td>5</td>\n",
       "      <td>High/ Low</td>\n",
       "      <td>ST</td>\n",
       "      <td>7</td>\n",
       "      <td>6.166667</td>\n",
       "      <td>183</td>\n",
       "    </tr>\n",
       "    <tr>\n",
       "      <th>2</th>\n",
       "      <td>Neymar Jr</td>\n",
       "      <td>26</td>\n",
       "      <td>Brazil</td>\n",
       "      <td>92</td>\n",
       "      <td>93</td>\n",
       "      <td>Paris Saint-Germain</td>\n",
       "      <td>Right</td>\n",
       "      <td>5</td>\n",
       "      <td>5</td>\n",
       "      <td>5</td>\n",
       "      <td>High/ Medium</td>\n",
       "      <td>LW</td>\n",
       "      <td>10</td>\n",
       "      <td>5.750000</td>\n",
       "      <td>150</td>\n",
       "    </tr>\n",
       "    <tr>\n",
       "      <th>3</th>\n",
       "      <td>De Gea</td>\n",
       "      <td>27</td>\n",
       "      <td>Spain</td>\n",
       "      <td>91</td>\n",
       "      <td>93</td>\n",
       "      <td>Manchester United</td>\n",
       "      <td>Right</td>\n",
       "      <td>4</td>\n",
       "      <td>3</td>\n",
       "      <td>1</td>\n",
       "      <td>Medium/ Medium</td>\n",
       "      <td>GK</td>\n",
       "      <td>1</td>\n",
       "      <td>6.333333</td>\n",
       "      <td>168</td>\n",
       "    </tr>\n",
       "    <tr>\n",
       "      <th>4</th>\n",
       "      <td>K. De Bruyne</td>\n",
       "      <td>27</td>\n",
       "      <td>Belgium</td>\n",
       "      <td>91</td>\n",
       "      <td>92</td>\n",
       "      <td>Manchester City</td>\n",
       "      <td>Right</td>\n",
       "      <td>4</td>\n",
       "      <td>5</td>\n",
       "      <td>4</td>\n",
       "      <td>High/ High</td>\n",
       "      <td>RCM</td>\n",
       "      <td>7</td>\n",
       "      <td>5.083333</td>\n",
       "      <td>154</td>\n",
       "    </tr>\n",
       "  </tbody>\n",
       "</table>\n",
       "</div>"
      ],
      "text/plain": [
       "                Name  Age Nationality  Overall_rating  Potential  \\\n",
       "0           L. Messi   31   Argentina              94         94   \n",
       "1  Cristiano Ronaldo   33    Portugal              94         94   \n",
       "2          Neymar Jr   26      Brazil              92         93   \n",
       "3             De Gea   27       Spain              91         93   \n",
       "4       K. De Bruyne   27     Belgium              91         92   \n",
       "\n",
       "                  Club Preferred Foot  International Reputation  Weak Foot  \\\n",
       "0         FC Barcelona           Left                         5          4   \n",
       "1             Juventus          Right                         5          4   \n",
       "2  Paris Saint-Germain          Right                         5          5   \n",
       "3    Manchester United          Right                         4          3   \n",
       "4      Manchester City          Right                         4          5   \n",
       "\n",
       "   Skill Moves       Work Rate Position  Jersey Number    Height  Weight  \n",
       "0            4  Medium/ Medium       RF             10  5.583333     159  \n",
       "1            5       High/ Low       ST              7  6.166667     183  \n",
       "2            5    High/ Medium       LW             10  5.750000     150  \n",
       "3            1  Medium/ Medium       GK              1  6.333333     168  \n",
       "4            4      High/ High      RCM              7  5.083333     154  "
      ]
     },
     "execution_count": 6,
     "metadata": {},
     "output_type": "execute_result"
    }
   ],
   "source": [
    "dff = pd.read_csv(\"fifa_stats.csv\")\n",
    "dff.head(5)"
   ]
  },
  {
   "cell_type": "code",
   "execution_count": 24,
   "id": "6341722f",
   "metadata": {},
   "outputs": [
    {
     "data": {
      "text/plain": [
       "Name                         object\n",
       "Age                           int64\n",
       "Nationality                  object\n",
       "Overall_rating                int64\n",
       "Potential                     int64\n",
       "Club                         object\n",
       "Preferred Foot               object\n",
       "International Reputation      int64\n",
       "Weak Foot                     int64\n",
       "Skill Moves                   int64\n",
       "Work Rate                    object\n",
       "Position                     object\n",
       "Jersey Number                 int64\n",
       "Height                      float64\n",
       "Weight                        int64\n",
       "dtype: object"
      ]
     },
     "execution_count": 24,
     "metadata": {},
     "output_type": "execute_result"
    }
   ],
   "source": [
    "dff.dtypes"
   ]
  },
  {
   "cell_type": "code",
   "execution_count": 20,
   "id": "c5f2ba09",
   "metadata": {},
   "outputs": [
    {
     "data": {
      "text/plain": [
       "Name                         0\n",
       "Age                          0\n",
       "Nationality                  0\n",
       "Overall_rating               0\n",
       "Potential                    0\n",
       "Club                        19\n",
       "Preferred Foot               0\n",
       "International Reputation     0\n",
       "Weak Foot                    0\n",
       "Skill Moves                  0\n",
       "Work Rate                    0\n",
       "Position                     0\n",
       "Jersey Number                0\n",
       "Height                       0\n",
       "Weight                       0\n",
       "dtype: int64"
      ]
     },
     "execution_count": 20,
     "metadata": {},
     "output_type": "execute_result"
    }
   ],
   "source": [
    "dff.isna().sum()"
   ]
  },
  {
   "cell_type": "code",
   "execution_count": 27,
   "id": "7fcc9ff2",
   "metadata": {},
   "outputs": [
    {
     "data": {
      "text/plain": [
       "0    Chelsea\n",
       "dtype: object"
      ]
     },
     "execution_count": 27,
     "metadata": {},
     "output_type": "execute_result"
    }
   ],
   "source": [
    "dff[\"Club\"].mode()"
   ]
  },
  {
   "cell_type": "markdown",
   "id": "83271689",
   "metadata": {},
   "source": [
    "### a)\tAssuming age as population, perform the central limit theorem with sample size of 200. Find the standard error and the mean of sampling distribution. Compare the results with population mean and standard deviation. Explain in non-technical terms why the estimated standard error of a sample mean tends to decrease with an increase in sample size"
   ]
  },
  {
   "cell_type": "code",
   "execution_count": null,
   "id": "504be00e",
   "metadata": {},
   "outputs": [],
   "source": [
    "# Cental limit theorem with sample size 200, mean and std. deviation :"
   ]
  },
  {
   "cell_type": "code",
   "execution_count": 206,
   "id": "7d4ba1d7",
   "metadata": {},
   "outputs": [],
   "source": [
    "def sample_mean_calculator(population_array):\n",
    "    \n",
    "    random.seed(500)\n",
    "    \n",
    "    std = []\n",
    "    \n",
    "    mean = []\n",
    "    \n",
    "    sample = random.sample(population_array, k=200)\n",
    "    \n",
    "    samp_std = statistics.stdev(sample)\n",
    "    \n",
    "    std.append(samp_std)\n",
    "    \n",
    "    samp_mean = np.mean(sample)\n",
    "    \n",
    "    mean.append(samp_mean)\n",
    "    \n",
    "    return \"samp_std :\", std, \"sample mean :\",mean"
   ]
  },
  {
   "cell_type": "code",
   "execution_count": 207,
   "id": "4bbf10d7",
   "metadata": {},
   "outputs": [
    {
     "data": {
      "text/plain": [
       "('samp_std :', [4.012530624188463], 'sample mean :', [27.51])"
      ]
     },
     "execution_count": 207,
     "metadata": {},
     "output_type": "execute_result"
    }
   ],
   "source": [
    "sample_mean_calculator(list(dff[\"Age\"]))"
   ]
  },
  {
   "cell_type": "code",
   "execution_count": null,
   "id": "900f3e38",
   "metadata": {},
   "outputs": [],
   "source": [
    "# Population mean and std. deviation :"
   ]
  },
  {
   "cell_type": "code",
   "execution_count": 204,
   "id": "36c6aa35",
   "metadata": {},
   "outputs": [
    {
     "name": "stdout",
     "output_type": "stream",
     "text": [
      "Population std is 3.8590612753574516\n",
      "Population mean is 27.2315\n"
     ]
    }
   ],
   "source": [
    "print(\"Population std is\", statistics.stdev(dff[\"Age\"]) )\n",
    "print(\"Population mean is\", dff[\"Age\"].mean())"
   ]
  },
  {
   "cell_type": "markdown",
   "id": "bc1c68e5",
   "metadata": {},
   "source": [
    "Standard error decreases when sample size increases – as the sample size near to the original size of the population, the sample means cluster more amnd more around the original population mean."
   ]
  },
  {
   "cell_type": "markdown",
   "id": "1bebbbe3",
   "metadata": {},
   "source": [
    "### b)\tIs there any evidence that the players overall rating is greater than 80?"
   ]
  },
  {
   "cell_type": "markdown",
   "id": "7f2a06d6",
   "metadata": {},
   "source": [
    "The null and alternative hypothesis is:\n",
    "\n",
    "H<sub>0</sub>: $\\mu \\leq 80$ <br>\n",
    "H<sub>1</sub>: $\\mu > 80$ \n",
    "\n",
    "Here ⍺ = 0.05, for a one-tailed test calculate the critical z-value."
   ]
  },
  {
   "cell_type": "code",
   "execution_count": 209,
   "id": "67a959d7",
   "metadata": {},
   "outputs": [
    {
     "name": "stdout",
     "output_type": "stream",
     "text": [
      "Critical value for one-tailed Z-test: 1.64\n"
     ]
    }
   ],
   "source": [
    "z_val = np.abs(round(stats.norm.isf(q = 0.05), 2))\n",
    "\n",
    "print('Critical value for one-tailed Z-test:', z_val)"
   ]
  },
  {
   "cell_type": "markdown",
   "id": "7c5a7094",
   "metadata": {},
   "source": [
    "i.e. if z is greater than 1.64 then we reject the null hypothesis."
   ]
  },
  {
   "cell_type": "code",
   "execution_count": 226,
   "id": "45bbc9e4",
   "metadata": {},
   "outputs": [
    {
     "name": "stdout",
     "output_type": "stream",
     "text": [
      "Z-score: 3.806875704717274\n"
     ]
    }
   ],
   "source": [
    "random.seed(10)\n",
    "\n",
    "sample = random.sample(list(dff[\"Age\"]), k=200)\n",
    "\n",
    "n = dff[\"Age\"].count()\n",
    "\n",
    "pop_mean = dff[\"Age\"].mean()\n",
    "\n",
    "pop_std = statistics.stdev(dff[\"Age\"])\n",
    "                           \n",
    "samp_mean = np.mean(sample)\n",
    "\n",
    "z_score = (samp_mean - pop_mean) / (pop_std / np.sqrt(n))\n",
    "\n",
    "print(\"Z-score:\", z_score)"
   ]
  },
  {
   "cell_type": "markdown",
   "id": "62857c67",
   "metadata": {},
   "source": [
    "Here, Z_score is greater than 1.64 then we reject the null hypothesis. So, we conclude that players overall rating is greater than 80"
   ]
  },
  {
   "cell_type": "markdown",
   "id": "d8804cf3",
   "metadata": {},
   "source": [
    "### c)\tPerform the statistical test to identify whether preferred foot has any impact on potential. Also, perform the graphical analysis.\n",
    "\n",
    "\n"
   ]
  },
  {
   "cell_type": "code",
   "execution_count": 237,
   "id": "42d1e5ac",
   "metadata": {},
   "outputs": [],
   "source": [
    "right = dff[(dff['Preferred Foot'] == 'Right')]['Potential']\n",
    "\n",
    "n1 = len(right)\n",
    " \n",
    "n1_mean = np.mean(right)\n",
    " \n",
    "n1_std = statistics.stdev(right)\n",
    "\n",
    "left = dff[(dff['Preferred Foot'] == 'Left')]['Potential']\n",
    "\n",
    "n2 = len(left)\n",
    " \n",
    "n2_mean = np.mean(left)\n",
    "\n",
    "n2_std = statistics.stdev(left)"
   ]
  },
  {
   "cell_type": "code",
   "execution_count": 239,
   "id": "8087081f",
   "metadata": {},
   "outputs": [
    {
     "name": "stdout",
     "output_type": "stream",
     "text": [
      "Z-score:  -1.5378037422592814\n",
      "p-value:  0.1240966083204813\n"
     ]
    }
   ],
   "source": [
    "z_score, pval = stests.ztest(x1 = right, x2 = left)\n",
    "\n",
    "print(\"Z-score: \", z_score)\n",
    "print(\"p-value: \", pval)"
   ]
  },
  {
   "cell_type": "markdown",
   "id": "bf41f10f",
   "metadata": {},
   "source": [
    "Here the the p-value is greater than 0.05, thus we fail to reject (i.e. accept) the null hypothesis and we do not have enough evidence to identify whether preferred foot has any impact on potential"
   ]
  },
  {
   "cell_type": "code",
   "execution_count": 283,
   "id": "1699a6e7",
   "metadata": {},
   "outputs": [],
   "source": [
    "# Graphical Analysis :"
   ]
  },
  {
   "cell_type": "code",
   "execution_count": 282,
   "id": "4a23e572",
   "metadata": {},
   "outputs": [
    {
     "data": {
      "image/png": "[encoded data removed]",
      "text/plain": [
       "<Figure size 720x432 with 1 Axes>"
      ]
     },
     "metadata": {
      "needs_background": "light"
     },
     "output_type": "display_data"
    }
   ],
   "source": [
    "plt.figure(figsize = (10,6))\n",
    "sns.distplot(right)\n",
    "plt.axvline(right.mean(), label=\"mean\", color=\"red\")\n",
    "plt.axvline(statistics.stdev(right), label = \"std\", color=\"green\")\n",
    "plt.legend()\n",
    "plt.show()"
   ]
  },
  {
   "cell_type": "code",
   "execution_count": 280,
   "id": "81e18fd5",
   "metadata": {},
   "outputs": [
    {
     "data": {
      "image/png": "[encoded data removed]",
      "text/plain": [
       "<Figure size 720x432 with 1 Axes>"
      ]
     },
     "metadata": {
      "needs_background": "light"
     },
     "output_type": "display_data"
    }
   ],
   "source": [
    "plt.figure(figsize = (10,6))\n",
    "sns.distplot(left)\n",
    "plt.axvline(left.mean(), label=\"mean\", color=\"red\")\n",
    "plt.axvline(statistics.stdev(left), label = \"std\", color=\"green\")\n",
    "plt.legend()\n",
    "plt.show()"
   ]
  },
  {
   "cell_type": "markdown",
   "id": "9c144949",
   "metadata": {},
   "source": [
    "### d)\tPerform the statistical test to identify the relation between the overall rating and potential. [Assume both are continuous data points].\n",
    "\n"
   ]
  },
  {
   "cell_type": "code",
   "execution_count": 285,
   "id": "f3ad3796",
   "metadata": {},
   "outputs": [
    {
     "data": {
      "text/html": [
       "<div>\n",
       "<style scoped>\n",
       "    .dataframe tbody tr th:only-of-type {\n",
       "        vertical-align: middle;\n",
       "    }\n",
       "\n",
       "    .dataframe tbody tr th {\n",
       "        vertical-align: top;\n",
       "    }\n",
       "\n",
       "    .dataframe thead th {\n",
       "        text-align: right;\n",
       "    }\n",
       "</style>\n",
       "<table border=\"1\" class=\"dataframe\">\n",
       "  <thead>\n",
       "    <tr style=\"text-align: right;\">\n",
       "      <th></th>\n",
       "      <th>Name</th>\n",
       "      <th>Age</th>\n",
       "      <th>Nationality</th>\n",
       "      <th>Overall_rating</th>\n",
       "      <th>Potential</th>\n",
       "      <th>Club</th>\n",
       "      <th>Preferred Foot</th>\n",
       "      <th>International Reputation</th>\n",
       "      <th>Weak Foot</th>\n",
       "      <th>Skill Moves</th>\n",
       "      <th>Work Rate</th>\n",
       "      <th>Position</th>\n",
       "      <th>Jersey Number</th>\n",
       "      <th>Height</th>\n",
       "      <th>Weight</th>\n",
       "    </tr>\n",
       "  </thead>\n",
       "  <tbody>\n",
       "    <tr>\n",
       "      <th>0</th>\n",
       "      <td>L. Messi</td>\n",
       "      <td>31</td>\n",
       "      <td>Argentina</td>\n",
       "      <td>94</td>\n",
       "      <td>94</td>\n",
       "      <td>FC Barcelona</td>\n",
       "      <td>Left</td>\n",
       "      <td>5</td>\n",
       "      <td>4</td>\n",
       "      <td>4</td>\n",
       "      <td>Medium/ Medium</td>\n",
       "      <td>RF</td>\n",
       "      <td>10</td>\n",
       "      <td>5.583333</td>\n",
       "      <td>159</td>\n",
       "    </tr>\n",
       "    <tr>\n",
       "      <th>1</th>\n",
       "      <td>Cristiano Ronaldo</td>\n",
       "      <td>33</td>\n",
       "      <td>Portugal</td>\n",
       "      <td>94</td>\n",
       "      <td>94</td>\n",
       "      <td>Juventus</td>\n",
       "      <td>Right</td>\n",
       "      <td>5</td>\n",
       "      <td>4</td>\n",
       "      <td>5</td>\n",
       "      <td>High/ Low</td>\n",
       "      <td>ST</td>\n",
       "      <td>7</td>\n",
       "      <td>6.166667</td>\n",
       "      <td>183</td>\n",
       "    </tr>\n",
       "  </tbody>\n",
       "</table>\n",
       "</div>"
      ],
      "text/plain": [
       "                Name  Age Nationality  Overall_rating  Potential  \\\n",
       "0           L. Messi   31   Argentina              94         94   \n",
       "1  Cristiano Ronaldo   33    Portugal              94         94   \n",
       "\n",
       "           Club Preferred Foot  International Reputation  Weak Foot  \\\n",
       "0  FC Barcelona           Left                         5          4   \n",
       "1      Juventus          Right                         5          4   \n",
       "\n",
       "   Skill Moves       Work Rate Position  Jersey Number    Height  Weight  \n",
       "0            4  Medium/ Medium       RF             10  5.583333     159  \n",
       "1            5       High/ Low       ST              7  6.166667     183  "
      ]
     },
     "execution_count": 285,
     "metadata": {},
     "output_type": "execute_result"
    }
   ],
   "source": [
    "dff.head(2)"
   ]
  },
  {
   "cell_type": "markdown",
   "id": "1d95c88e",
   "metadata": {},
   "source": [
    "The null and alternative hypothesis is:\n",
    "\n",
    "H<sub>0</sub>: The variables overall rating and potential are independent<br>\n",
    "H<sub>1</sub>: The variables overall rating and potential are not independent"
   ]
  },
  {
   "cell_type": "code",
   "execution_count": 308,
   "id": "77961b05",
   "metadata": {},
   "outputs": [
    {
     "data": {
      "text/plain": [
       "21"
      ]
     },
     "execution_count": 308,
     "metadata": {},
     "output_type": "execute_result"
    }
   ],
   "source": [
    "table = pd.crosstab(dff['Overall_rating'], dff['Potential'])\n",
    " \n",
    "observed_value = table.values\n",
    "\n",
    "n = len(observed_value[0])\n",
    "n"
   ]
  },
  {
   "cell_type": "markdown",
   "id": "cd6a14c3",
   "metadata": {},
   "source": [
    "For ⍺ = 0.05 and degrees of freedom = 20 , calculate the critical value."
   ]
  },
  {
   "cell_type": "code",
   "execution_count": 63,
   "id": "636e6326",
   "metadata": {},
   "outputs": [
    {
     "name": "stdout",
     "output_type": "stream",
     "text": [
      "p-value: 0.48\n"
     ]
    }
   ],
   "source": [
    "test_stats, p, dof, exp_val = chi2_contingency(observed = observed_value, correction = False)\n",
    "\n",
    "print(\"p-value:\", round(p,2))"
   ]
  },
  {
   "cell_type": "markdown",
   "id": "9766b24c",
   "metadata": {},
   "source": [
    "Here, the p-value is less than 0.05, thus we reject the null hypothesis and conclude that the variables `overall rating` and `potential` are dependent."
   ]
  },
  {
   "cell_type": "markdown",
   "id": "e2133fe4",
   "metadata": {},
   "source": [
    "### e)\tDoes skill move have any effect in overall rating? Perform the graphical analysis and the statistical analysis.\n"
   ]
  },
  {
   "cell_type": "markdown",
   "id": "72d0c76b",
   "metadata": {},
   "source": [
    "The null and alternative hypothesis is:\n",
    "\n",
    "H<sub>0</sub>: The variable Skill Moves doesnot effect on  overall rating <br>\n",
    "H<sub>1</sub>: The variable Skill Moves effect on  overall rating"
   ]
  },
  {
   "cell_type": "code",
   "execution_count": 343,
   "id": "b6b36d8b",
   "metadata": {},
   "outputs": [
    {
     "data": {
      "text/plain": [
       "5"
      ]
     },
     "execution_count": 343,
     "metadata": {},
     "output_type": "execute_result"
    }
   ],
   "source": [
    "table = pd.crosstab(dff['Overall_rating'], dff['Skill Moves'])\n",
    " \n",
    "observed_value = table.values\n",
    "\n",
    "n = len(observed_value[0])\n",
    "n"
   ]
  },
  {
   "cell_type": "markdown",
   "id": "c0b8d668",
   "metadata": {},
   "source": [
    "For ⍺ = 0.05 and degrees of freedom = 4 , calculate the critical value."
   ]
  },
  {
   "cell_type": "code",
   "execution_count": 344,
   "id": "090f8bf5",
   "metadata": {},
   "outputs": [
    {
     "name": "stdout",
     "output_type": "stream",
     "text": [
      "Critical value for chi-square test: 9.49\n"
     ]
    }
   ],
   "source": [
    "chi2_val = np.abs(round(stats.chi2.isf(q = 0.05, df = 4), 2))\n",
    "\n",
    "print('Critical value for chi-square test:', chi2_val)"
   ]
  },
  {
   "cell_type": "markdown",
   "id": "ee21c464",
   "metadata": {},
   "source": [
    "i.e. if the chi-square value is greater than 9.49 then we reject the null hypothesis."
   ]
  },
  {
   "cell_type": "code",
   "execution_count": 350,
   "id": "5d2c8673",
   "metadata": {},
   "outputs": [
    {
     "name": "stdout",
     "output_type": "stream",
     "text": [
      "test_statistics: 264.3544361441865\n",
      "p-value: 0.0\n"
     ]
    }
   ],
   "source": [
    "test_stats, p, dof, exp_val = chi2_contingency(observed = observed_value, correction = False)\n",
    "\n",
    "print(\"test_statistics:\",test_stats)\n",
    "print(\"p-value:\", round(p,2))"
   ]
  },
  {
   "cell_type": "markdown",
   "id": "67201cec",
   "metadata": {},
   "source": [
    "The above output shows that the chi-square test statistic is greater than 11.0705, we fail the null hypothesis and conclude that the variable Skill Moves doesnot effect on  overall rating"
   ]
  },
  {
   "cell_type": "markdown",
   "id": "736608ef",
   "metadata": {},
   "source": [
    "## 2. Perform the following statistical analysis on the mobile network dataset given. The given data set contains information about the internet, calls, and messages of various network. Data Cleaning and basic EDA process needs to be performed. \n",
    "\n",
    "### Note: \n",
    "### 1) Perform all the Statistical analysis with 5% (Significance level). \n",
    "\n",
    "### 2) Perform the test of normality and test of variance in the appropriate places.\n"
   ]
  },
  {
   "cell_type": "code",
   "execution_count": 5,
   "id": "3e5b0047",
   "metadata": {},
   "outputs": [
    {
     "data": {
      "text/html": [
       "<div>\n",
       "<style scoped>\n",
       "    .dataframe tbody tr th:only-of-type {\n",
       "        vertical-align: middle;\n",
       "    }\n",
       "\n",
       "    .dataframe tbody tr th {\n",
       "        vertical-align: top;\n",
       "    }\n",
       "\n",
       "    .dataframe thead th {\n",
       "        text-align: right;\n",
       "    }\n",
       "</style>\n",
       "<table border=\"1\" class=\"dataframe\">\n",
       "  <thead>\n",
       "    <tr style=\"text-align: right;\">\n",
       "      <th></th>\n",
       "      <th>date</th>\n",
       "      <th>duration</th>\n",
       "      <th>item</th>\n",
       "      <th>month</th>\n",
       "      <th>network</th>\n",
       "      <th>network_type</th>\n",
       "    </tr>\n",
       "  </thead>\n",
       "  <tbody>\n",
       "    <tr>\n",
       "      <th>0</th>\n",
       "      <td>15-10-14 6:58</td>\n",
       "      <td>221.321120</td>\n",
       "      <td>data</td>\n",
       "      <td>2014-11</td>\n",
       "      <td>data</td>\n",
       "      <td>data</td>\n",
       "    </tr>\n",
       "    <tr>\n",
       "      <th>1</th>\n",
       "      <td>15-10-14 6:58</td>\n",
       "      <td>81.610599</td>\n",
       "      <td>call</td>\n",
       "      <td>2014-11</td>\n",
       "      <td>Vodafone</td>\n",
       "      <td>mobile</td>\n",
       "    </tr>\n",
       "    <tr>\n",
       "      <th>2</th>\n",
       "      <td>15-10-14 14:46</td>\n",
       "      <td>143.109111</td>\n",
       "      <td>call</td>\n",
       "      <td>2014-11</td>\n",
       "      <td>Meteor</td>\n",
       "      <td>mobile</td>\n",
       "    </tr>\n",
       "    <tr>\n",
       "      <th>3</th>\n",
       "      <td>15-10-14 14:48</td>\n",
       "      <td>111.888670</td>\n",
       "      <td>call</td>\n",
       "      <td>2014-11</td>\n",
       "      <td>Tesco</td>\n",
       "      <td>mobile</td>\n",
       "    </tr>\n",
       "    <tr>\n",
       "      <th>4</th>\n",
       "      <td>15-10-14 17:27</td>\n",
       "      <td>246.695171</td>\n",
       "      <td>call</td>\n",
       "      <td>2014-11</td>\n",
       "      <td>Tesco</td>\n",
       "      <td>mobile</td>\n",
       "    </tr>\n",
       "  </tbody>\n",
       "</table>\n",
       "</div>"
      ],
      "text/plain": [
       "             date    duration  item    month   network network_type\n",
       "0   15-10-14 6:58  221.321120  data  2014-11      data         data\n",
       "1   15-10-14 6:58   81.610599  call  2014-11  Vodafone       mobile\n",
       "2  15-10-14 14:46  143.109111  call  2014-11    Meteor       mobile\n",
       "3  15-10-14 14:48  111.888670  call  2014-11     Tesco       mobile\n",
       "4  15-10-14 17:27  246.695171  call  2014-11     Tesco       mobile"
      ]
     },
     "execution_count": 5,
     "metadata": {},
     "output_type": "execute_result"
    }
   ],
   "source": [
    "dfp = pd.read_csv(\"phone.csv\")\n",
    "dfp.head(5)"
   ]
  },
  {
   "cell_type": "code",
   "execution_count": 21,
   "id": "9ae7f6c0",
   "metadata": {},
   "outputs": [
    {
     "data": {
      "text/plain": [
       "date            0\n",
       "duration        0\n",
       "item            0\n",
       "month           0\n",
       "network         0\n",
       "network_type    0\n",
       "dtype: int64"
      ]
     },
     "execution_count": 21,
     "metadata": {},
     "output_type": "execute_result"
    }
   ],
   "source": [
    "dfp.isna().sum()"
   ]
  },
  {
   "cell_type": "code",
   "execution_count": 23,
   "id": "8079100e",
   "metadata": {},
   "outputs": [
    {
     "data": {
      "text/plain": [
       "date             object\n",
       "duration        float64\n",
       "item             object\n",
       "month            object\n",
       "network          object\n",
       "network_type     object\n",
       "dtype: object"
      ]
     },
     "execution_count": 23,
     "metadata": {},
     "output_type": "execute_result"
    }
   ],
   "source": [
    "dfp.dtypes"
   ]
  },
  {
   "cell_type": "code",
   "execution_count": 352,
   "id": "f131c82a",
   "metadata": {},
   "outputs": [],
   "source": [
    "dfp[\"date\"]= pd.to_datetime(dfp[\"date\"])"
   ]
  },
  {
   "cell_type": "code",
   "execution_count": 359,
   "id": "2a1641b9",
   "metadata": {},
   "outputs": [],
   "source": [
    "dfp['month'] = pd.to_datetime(dfp['month'],format='%Y-%m', errors='coerce')"
   ]
  },
  {
   "cell_type": "code",
   "execution_count": 360,
   "id": "64c2e0f9",
   "metadata": {},
   "outputs": [
    {
     "data": {
      "text/plain": [
       "date            datetime64[ns]\n",
       "duration               float64\n",
       "item                    object\n",
       "month           datetime64[ns]\n",
       "network                 object\n",
       "network_type            object\n",
       "dtype: object"
      ]
     },
     "execution_count": 360,
     "metadata": {},
     "output_type": "execute_result"
    }
   ],
   "source": [
    "dfp.dtypes"
   ]
  },
  {
   "cell_type": "markdown",
   "id": "c29c7b86",
   "metadata": {},
   "source": [
    "### a) With 95% & 99% Confidence Interval, find the range estimate of average duration calls made by the entire network. Which of the Intervals are wider? Interpret the results.\n"
   ]
  },
  {
   "cell_type": "code",
   "execution_count": 361,
   "id": "e3a8a498",
   "metadata": {},
   "outputs": [
    {
     "data": {
      "text/html": [
       "<div>\n",
       "<style scoped>\n",
       "    .dataframe tbody tr th:only-of-type {\n",
       "        vertical-align: middle;\n",
       "    }\n",
       "\n",
       "    .dataframe tbody tr th {\n",
       "        vertical-align: top;\n",
       "    }\n",
       "\n",
       "    .dataframe thead th {\n",
       "        text-align: right;\n",
       "    }\n",
       "</style>\n",
       "<table border=\"1\" class=\"dataframe\">\n",
       "  <thead>\n",
       "    <tr style=\"text-align: right;\">\n",
       "      <th></th>\n",
       "      <th>date</th>\n",
       "      <th>duration</th>\n",
       "      <th>item</th>\n",
       "      <th>month</th>\n",
       "      <th>network</th>\n",
       "      <th>network_type</th>\n",
       "    </tr>\n",
       "  </thead>\n",
       "  <tbody>\n",
       "    <tr>\n",
       "      <th>0</th>\n",
       "      <td>2014-10-15 06:58:00</td>\n",
       "      <td>221.321120</td>\n",
       "      <td>data</td>\n",
       "      <td>2014-11-01</td>\n",
       "      <td>data</td>\n",
       "      <td>data</td>\n",
       "    </tr>\n",
       "    <tr>\n",
       "      <th>1</th>\n",
       "      <td>2014-10-15 06:58:00</td>\n",
       "      <td>81.610599</td>\n",
       "      <td>call</td>\n",
       "      <td>2014-11-01</td>\n",
       "      <td>Vodafone</td>\n",
       "      <td>mobile</td>\n",
       "    </tr>\n",
       "  </tbody>\n",
       "</table>\n",
       "</div>"
      ],
      "text/plain": [
       "                 date    duration  item      month   network network_type\n",
       "0 2014-10-15 06:58:00  221.321120  data 2014-11-01      data         data\n",
       "1 2014-10-15 06:58:00   81.610599  call 2014-11-01  Vodafone       mobile"
      ]
     },
     "execution_count": 361,
     "metadata": {},
     "output_type": "execute_result"
    }
   ],
   "source": [
    "dfp.head(2)"
   ]
  },
  {
   "cell_type": "code",
   "execution_count": null,
   "id": "a5432a8e",
   "metadata": {},
   "outputs": [],
   "source": [
    "# 95 % Confidence Interval :"
   ]
  },
  {
   "cell_type": "code",
   "execution_count": 7,
   "id": "a5715c7e",
   "metadata": {},
   "outputs": [
    {
     "name": "stdout",
     "output_type": "stream",
     "text": [
      "The 90% confidence interval of population mean is [141.18 147.43]\n"
     ]
    }
   ],
   "source": [
    "n1 = len(dfp[\"duration\"])\n",
    "\n",
    "std_pop1 = statistics.stdev(dfp[\"duration\"])\n",
    "\n",
    "interval1 = stats.norm.interval(0.95, loc = np.mean(dfp[\"duration\"]), scale = std_pop1 / np.sqrt(n1))\n",
    "\n",
    "print('The 90% confidence interval of population mean is', np.round(interval1,2))"
   ]
  },
  {
   "cell_type": "code",
   "execution_count": 15,
   "id": "2c91f301",
   "metadata": {},
   "outputs": [
    {
     "name": "stdout",
     "output_type": "stream",
     "text": [
      "difference between the 95% Confidence interval :  6.25\n"
     ]
    }
   ],
   "source": [
    "print(\"difference between 95% Confidence interval : \", round((interval1[-1]-interval1[0]),2))"
   ]
  },
  {
   "cell_type": "code",
   "execution_count": null,
   "id": "1fbc6684",
   "metadata": {},
   "outputs": [],
   "source": [
    "# 90 % Confidence Interval :"
   ]
  },
  {
   "cell_type": "code",
   "execution_count": 8,
   "id": "d0677af1",
   "metadata": {},
   "outputs": [
    {
     "name": "stdout",
     "output_type": "stream",
     "text": [
      "The 90% confidence interval of population mean is [140.2  148.41]\n"
     ]
    }
   ],
   "source": [
    "n2 = len(dfp[\"duration\"])\n",
    "\n",
    "std_pop2 = statistics.stdev(dfp[\"duration\"])\n",
    "\n",
    "interval2 = stats.norm.interval(0.99, loc = np.mean(dfp[\"duration\"]), scale = std_pop2 / np.sqrt(n2))\n",
    "\n",
    "print('The 90% confidence interval of population mean is', np.round(interval2,2))"
   ]
  },
  {
   "cell_type": "code",
   "execution_count": 17,
   "id": "b1111690",
   "metadata": {},
   "outputs": [
    {
     "name": "stdout",
     "output_type": "stream",
     "text": [
      "difference between 99% Confidence interval :  8.22\n"
     ]
    }
   ],
   "source": [
    "print(\"difference between 99% Confidence interval : \", round((interval2[-1]-interval2[0]),2))"
   ]
  },
  {
   "cell_type": "markdown",
   "id": "898a37b5",
   "metadata": {},
   "source": [
    "Based on the above outputs, 99% Confidence interval is wider than 95%"
   ]
  },
  {
   "cell_type": "markdown",
   "id": "832f0754",
   "metadata": {},
   "source": [
    "### b) Perform statistical analysis to check whether the networks are equally distributed in the dataset.\n"
   ]
  },
  {
   "cell_type": "code",
   "execution_count": 18,
   "id": "7a2a0578",
   "metadata": {},
   "outputs": [
    {
     "data": {
      "text/html": [
       "<div>\n",
       "<style scoped>\n",
       "    .dataframe tbody tr th:only-of-type {\n",
       "        vertical-align: middle;\n",
       "    }\n",
       "\n",
       "    .dataframe tbody tr th {\n",
       "        vertical-align: top;\n",
       "    }\n",
       "\n",
       "    .dataframe thead th {\n",
       "        text-align: right;\n",
       "    }\n",
       "</style>\n",
       "<table border=\"1\" class=\"dataframe\">\n",
       "  <thead>\n",
       "    <tr style=\"text-align: right;\">\n",
       "      <th></th>\n",
       "      <th>date</th>\n",
       "      <th>duration</th>\n",
       "      <th>item</th>\n",
       "      <th>month</th>\n",
       "      <th>network</th>\n",
       "      <th>network_type</th>\n",
       "    </tr>\n",
       "  </thead>\n",
       "  <tbody>\n",
       "    <tr>\n",
       "      <th>0</th>\n",
       "      <td>15-10-14 6:58</td>\n",
       "      <td>221.321120</td>\n",
       "      <td>data</td>\n",
       "      <td>2014-11</td>\n",
       "      <td>data</td>\n",
       "      <td>data</td>\n",
       "    </tr>\n",
       "    <tr>\n",
       "      <th>1</th>\n",
       "      <td>15-10-14 6:58</td>\n",
       "      <td>81.610599</td>\n",
       "      <td>call</td>\n",
       "      <td>2014-11</td>\n",
       "      <td>Vodafone</td>\n",
       "      <td>mobile</td>\n",
       "    </tr>\n",
       "  </tbody>\n",
       "</table>\n",
       "</div>"
      ],
      "text/plain": [
       "            date    duration  item    month   network network_type\n",
       "0  15-10-14 6:58  221.321120  data  2014-11      data         data\n",
       "1  15-10-14 6:58   81.610599  call  2014-11  Vodafone       mobile"
      ]
     },
     "execution_count": 18,
     "metadata": {},
     "output_type": "execute_result"
    }
   ],
   "source": [
    "dfp.head(2)"
   ]
  },
  {
   "cell_type": "code",
   "execution_count": 31,
   "id": "99109442",
   "metadata": {},
   "outputs": [],
   "source": [
    "network = pd.crosstab(dfp[\"network\"], columns=\"no. of network\")"
   ]
  },
  {
   "cell_type": "code",
   "execution_count": 33,
   "id": "84c4cd93",
   "metadata": {},
   "outputs": [
    {
     "name": "stdout",
     "output_type": "stream",
     "text": [
      "Test statistic: 0.8885776400566101\n",
      "P-Value: 0.26732590794563293\n"
     ]
    }
   ],
   "source": [
    "stat, p_value = shapiro(network)\n",
    "\n",
    "print('Test statistic:', stat)\n",
    "print('P-Value:', p_value)"
   ]
  },
  {
   "cell_type": "markdown",
   "id": "166d2a5c",
   "metadata": {},
   "source": [
    "From the above result, we can see that the p-value is greater than 0.05, thus we can say that the network in the dataset are normally distributed."
   ]
  },
  {
   "cell_type": "markdown",
   "id": "961d264b",
   "metadata": {},
   "source": [
    "### c) Plot the distribution of duration with respect to each network in the same graph and interpret the results from the graph.\n"
   ]
  },
  {
   "cell_type": "code",
   "execution_count": 45,
   "id": "0d94457a",
   "metadata": {},
   "outputs": [
    {
     "data": {
      "text/html": [
       "<div>\n",
       "<style scoped>\n",
       "    .dataframe tbody tr th:only-of-type {\n",
       "        vertical-align: middle;\n",
       "    }\n",
       "\n",
       "    .dataframe tbody tr th {\n",
       "        vertical-align: top;\n",
       "    }\n",
       "\n",
       "    .dataframe thead th {\n",
       "        text-align: right;\n",
       "    }\n",
       "</style>\n",
       "<table border=\"1\" class=\"dataframe\">\n",
       "  <thead>\n",
       "    <tr style=\"text-align: right;\">\n",
       "      <th></th>\n",
       "      <th>date</th>\n",
       "      <th>duration</th>\n",
       "      <th>item</th>\n",
       "      <th>month</th>\n",
       "      <th>network</th>\n",
       "      <th>network_type</th>\n",
       "    </tr>\n",
       "  </thead>\n",
       "  <tbody>\n",
       "    <tr>\n",
       "      <th>0</th>\n",
       "      <td>15-10-14 6:58</td>\n",
       "      <td>221.321120</td>\n",
       "      <td>data</td>\n",
       "      <td>2014-11</td>\n",
       "      <td>data</td>\n",
       "      <td>data</td>\n",
       "    </tr>\n",
       "    <tr>\n",
       "      <th>1</th>\n",
       "      <td>15-10-14 6:58</td>\n",
       "      <td>81.610599</td>\n",
       "      <td>call</td>\n",
       "      <td>2014-11</td>\n",
       "      <td>Vodafone</td>\n",
       "      <td>mobile</td>\n",
       "    </tr>\n",
       "  </tbody>\n",
       "</table>\n",
       "</div>"
      ],
      "text/plain": [
       "            date    duration  item    month   network network_type\n",
       "0  15-10-14 6:58  221.321120  data  2014-11      data         data\n",
       "1  15-10-14 6:58   81.610599  call  2014-11  Vodafone       mobile"
      ]
     },
     "execution_count": 45,
     "metadata": {},
     "output_type": "execute_result"
    }
   ],
   "source": [
    "dfp.head(2)"
   ]
  },
  {
   "cell_type": "code",
   "execution_count": 52,
   "id": "6270255b",
   "metadata": {},
   "outputs": [
    {
     "data": {
      "image/png": "[encoded data removed]",
      "text/plain": [
       "<Figure size 432x288 with 1 Axes>"
      ]
     },
     "metadata": {
      "needs_background": "light"
     },
     "output_type": "display_data"
    }
   ],
   "source": [
    "sns.barplot(x=dfp[\"network\"], y=dfp[\"duration\"])\n",
    "plt.show()"
   ]
  },
  {
   "cell_type": "markdown",
   "id": "f5e4ba08",
   "metadata": {},
   "source": [
    "From the above graph, \"voicemail\" network has the highest duration and \"meteor\" has the lowest duration when compared to others"
   ]
  },
  {
   "cell_type": "markdown",
   "id": "60f65414",
   "metadata": {},
   "source": [
    "### d)\tPerform statistical tests to identify the relation between item and duration. Detailed explanation of relation between the classes is required.\n"
   ]
  },
  {
   "cell_type": "code",
   "execution_count": 53,
   "id": "7b6eb353",
   "metadata": {},
   "outputs": [
    {
     "data": {
      "text/html": [
       "<div>\n",
       "<style scoped>\n",
       "    .dataframe tbody tr th:only-of-type {\n",
       "        vertical-align: middle;\n",
       "    }\n",
       "\n",
       "    .dataframe tbody tr th {\n",
       "        vertical-align: top;\n",
       "    }\n",
       "\n",
       "    .dataframe thead th {\n",
       "        text-align: right;\n",
       "    }\n",
       "</style>\n",
       "<table border=\"1\" class=\"dataframe\">\n",
       "  <thead>\n",
       "    <tr style=\"text-align: right;\">\n",
       "      <th></th>\n",
       "      <th>date</th>\n",
       "      <th>duration</th>\n",
       "      <th>item</th>\n",
       "      <th>month</th>\n",
       "      <th>network</th>\n",
       "      <th>network_type</th>\n",
       "    </tr>\n",
       "  </thead>\n",
       "  <tbody>\n",
       "    <tr>\n",
       "      <th>0</th>\n",
       "      <td>15-10-14 6:58</td>\n",
       "      <td>221.321120</td>\n",
       "      <td>data</td>\n",
       "      <td>2014-11</td>\n",
       "      <td>data</td>\n",
       "      <td>data</td>\n",
       "    </tr>\n",
       "    <tr>\n",
       "      <th>1</th>\n",
       "      <td>15-10-14 6:58</td>\n",
       "      <td>81.610599</td>\n",
       "      <td>call</td>\n",
       "      <td>2014-11</td>\n",
       "      <td>Vodafone</td>\n",
       "      <td>mobile</td>\n",
       "    </tr>\n",
       "  </tbody>\n",
       "</table>\n",
       "</div>"
      ],
      "text/plain": [
       "            date    duration  item    month   network network_type\n",
       "0  15-10-14 6:58  221.321120  data  2014-11      data         data\n",
       "1  15-10-14 6:58   81.610599  call  2014-11  Vodafone       mobile"
      ]
     },
     "execution_count": 53,
     "metadata": {},
     "output_type": "execute_result"
    }
   ],
   "source": [
    "dfp.head(2)"
   ]
  },
  {
   "cell_type": "markdown",
   "id": "d189d477",
   "metadata": {},
   "source": [
    "The null and alternative hypothesis is:\n",
    "\n",
    "H<sub>0</sub>: The variables item and duration are independent<br>\n",
    "H<sub>1</sub>: The variables item and duration are not independent"
   ]
  },
  {
   "cell_type": "code",
   "execution_count": 60,
   "id": "dd0bd9b5",
   "metadata": {},
   "outputs": [
    {
     "data": {
      "text/plain": [
       "820"
      ]
     },
     "execution_count": 60,
     "metadata": {},
     "output_type": "execute_result"
    }
   ],
   "source": [
    "table = pd.crosstab(dfp['item'], dfp['duration'])\n",
    "\n",
    "observed_value = table.values\n",
    "\n",
    "n = len(observed_value[0])\n",
    "\n",
    "n"
   ]
  },
  {
   "cell_type": "markdown",
   "id": "0ccfac5a",
   "metadata": {},
   "source": [
    "For ⍺ = 0.05 and degrees of freedom = 819 , calculate the critical value."
   ]
  },
  {
   "cell_type": "code",
   "execution_count": 66,
   "id": "c03d69ed",
   "metadata": {},
   "outputs": [
    {
     "name": "stdout",
     "output_type": "stream",
     "text": [
      "Critical value for chi-square test: 886.69\n"
     ]
    }
   ],
   "source": [
    "chi2_val = np.abs(round(stats.chi2.isf(q = 0.05, df = 819), 2))\n",
    "\n",
    "print('Critical value for chi-square test:', chi2_val)"
   ]
  },
  {
   "cell_type": "markdown",
   "id": "aeed90ff",
   "metadata": {},
   "source": [
    "i.e. if the chi-square value is greater than 886.69 then we reject the null hypothesis."
   ]
  },
  {
   "cell_type": "code",
   "execution_count": 100,
   "id": "4ab054ef",
   "metadata": {},
   "outputs": [
    {
     "name": "stdout",
     "output_type": "stream",
     "text": [
      "test_stats: 1640.0\n",
      "p-value: 0.48\n"
     ]
    }
   ],
   "source": [
    "test_stats, p, dof, exp_val = chi2_contingency(observed = observed_value, correction = False)\n",
    "\n",
    "print(\"test_stats:\", test_stats)\n",
    "\n",
    "print(\"p-value:\", round(p,2))"
   ]
  },
  {
   "cell_type": "markdown",
   "id": "a82cd438",
   "metadata": {},
   "source": [
    "The above output shows that the chi-square test statistic is greater than 886.69 thus we reject the null hypothesis and conclude that the no relation between two variables"
   ]
  },
  {
   "cell_type": "markdown",
   "id": "5f972f2f",
   "metadata": {},
   "source": [
    "### e)\tPerform statistical tests to identify the relation between network and network_type. \n"
   ]
  },
  {
   "cell_type": "code",
   "execution_count": 70,
   "id": "f55e0a80",
   "metadata": {},
   "outputs": [
    {
     "data": {
      "text/html": [
       "<div>\n",
       "<style scoped>\n",
       "    .dataframe tbody tr th:only-of-type {\n",
       "        vertical-align: middle;\n",
       "    }\n",
       "\n",
       "    .dataframe tbody tr th {\n",
       "        vertical-align: top;\n",
       "    }\n",
       "\n",
       "    .dataframe thead th {\n",
       "        text-align: right;\n",
       "    }\n",
       "</style>\n",
       "<table border=\"1\" class=\"dataframe\">\n",
       "  <thead>\n",
       "    <tr style=\"text-align: right;\">\n",
       "      <th></th>\n",
       "      <th>date</th>\n",
       "      <th>duration</th>\n",
       "      <th>item</th>\n",
       "      <th>month</th>\n",
       "      <th>network</th>\n",
       "      <th>network_type</th>\n",
       "    </tr>\n",
       "  </thead>\n",
       "  <tbody>\n",
       "    <tr>\n",
       "      <th>0</th>\n",
       "      <td>15-10-14 6:58</td>\n",
       "      <td>221.321120</td>\n",
       "      <td>data</td>\n",
       "      <td>2014-11</td>\n",
       "      <td>data</td>\n",
       "      <td>data</td>\n",
       "    </tr>\n",
       "    <tr>\n",
       "      <th>1</th>\n",
       "      <td>15-10-14 6:58</td>\n",
       "      <td>81.610599</td>\n",
       "      <td>call</td>\n",
       "      <td>2014-11</td>\n",
       "      <td>Vodafone</td>\n",
       "      <td>mobile</td>\n",
       "    </tr>\n",
       "  </tbody>\n",
       "</table>\n",
       "</div>"
      ],
      "text/plain": [
       "            date    duration  item    month   network network_type\n",
       "0  15-10-14 6:58  221.321120  data  2014-11      data         data\n",
       "1  15-10-14 6:58   81.610599  call  2014-11  Vodafone       mobile"
      ]
     },
     "execution_count": 70,
     "metadata": {},
     "output_type": "execute_result"
    }
   ],
   "source": [
    "dfp.head(2)"
   ]
  },
  {
   "cell_type": "markdown",
   "id": "f75b9756",
   "metadata": {},
   "source": [
    "The null and alternative hypothesis is:\n",
    "\n",
    "H<sub>0</sub>: The variables network and network_type are independent<br>\n",
    "H<sub>1</sub>: The variables network and network_type are not independent"
   ]
  },
  {
   "cell_type": "code",
   "execution_count": 102,
   "id": "45593aca",
   "metadata": {},
   "outputs": [
    {
     "data": {
      "text/plain": [
       "4"
      ]
     },
     "execution_count": 102,
     "metadata": {},
     "output_type": "execute_result"
    }
   ],
   "source": [
    "table = pd.crosstab(dfp['network'], dfp['network_type'])\n",
    "\n",
    "observed_value = table.values\n",
    "\n",
    "n = len(observed_value[0])\n",
    "\n",
    "n"
   ]
  },
  {
   "cell_type": "code",
   "execution_count": 104,
   "id": "87000934",
   "metadata": {},
   "outputs": [
    {
     "name": "stdout",
     "output_type": "stream",
     "text": [
      "Critical value for chi-square test: 7.81\n"
     ]
    }
   ],
   "source": [
    "chi2_val = np.abs(round(stats.chi2.isf(q = 0.05, df = 3), 2))\n",
    "\n",
    "print('Critical value for chi-square test:', chi2_val)"
   ]
  },
  {
   "cell_type": "code",
   "execution_count": 107,
   "id": "7b5861b7",
   "metadata": {},
   "outputs": [
    {
     "name": "stdout",
     "output_type": "stream",
     "text": [
      "test_stats: 2460.0\n",
      "p-value: 0.0\n"
     ]
    }
   ],
   "source": [
    "test_stats, p, dof, exp_val = chi2_contingency(observed = observed_value, correction = False)\n",
    "\n",
    "print(\"test_stats:\", test_stats)\n",
    "\n",
    "print(\"p-value:\", round(p,2))\n"
   ]
  },
  {
   "cell_type": "markdown",
   "id": "33c64755",
   "metadata": {},
   "source": [
    "The above output shows that the chi-square test statistic is greater than 7.81 thus we reject the null hypothesis and conclude that the no relation between two variables"
   ]
  }
 ],
 "metadata": {
  "kernelspec": {
   "display_name": "Python 3 (ipykernel)",
   "language": "python",
   "name": "python3"
  },
  "language_info": {
   "codemirror_mode": {
    "name": "ipython",
    "version": 3
   },
   "file_extension": ".py",
   "mimetype": "text/x-python",
   "name": "python",
   "nbconvert_exporter": "python",
   "pygments_lexer": "ipython3",
   "version": "3.9.7"
  }
 },
 "nbformat": 4,
 "nbformat_minor": 5
}
